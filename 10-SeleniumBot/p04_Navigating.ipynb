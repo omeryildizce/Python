{
 "cells": [
  {
   "cell_type": "code",
   "execution_count": 23,
   "metadata": {},
   "outputs": [
    {
     "name": "stderr",
     "output_type": "stream",
     "text": [
      "C:\\Users\\omery\\AppData\\Local\\Temp\\ipykernel_7196\\620999659.py:9: DeprecationWarning: find_element_by_* commands are deprecated. Please use find_element() instead\n",
      "  searchınput = driver.find_element_by_xpath(\"/html/body/div[1]/header/div/div[2]/div[2]/div[1]/div/div/form/label/input[1]\")\n",
      "C:\\Users\\omery\\AppData\\Local\\Temp\\ipykernel_7196\\620999659.py:16: DeprecationWarning: find_elements_by_* commands are deprecated. Please use find_elements() instead\n",
      "  result =  driver.find_elements_by_xpath('//*[@id=\"js-pjax-container\"]/div/div[3]/div/ul/li[1]/div[2]/div[1]/div[1]/a')\n"
     ]
    },
    {
     "name": "stdout",
     "output_type": "stream",
     "text": [
      "TheAlgorithms/Python\n"
     ]
    }
   ],
   "source": [
    "from selenium import webdriver\n",
    "import time \n",
    "from selenium.webdriver.common.keys import Keys\n",
    "\n",
    "driver = webdriver.Chrome()\n",
    "url = \"https://github.com\"\n",
    "driver.get(url)\n",
    "\n",
    "searchınput = driver.find_element_by_xpath(\"/html/body/div[1]/header/div/div[2]/div[2]/div[1]/div/div/form/label/input[1]\")\n",
    "time.sleep(1)\n",
    "\n",
    "searchınput.send_keys(\"python\")\n",
    "searchınput.send_keys(Keys.ENTER)\n",
    "time.sleep(2)\n",
    "\n",
    "result =  driver.find_elements_by_xpath('//*[@id=\"js-pjax-container\"]/div/div[3]/div/ul/li[1]/div[2]/div[1]/div[1]/a')\n",
    "\n",
    "for element in result:\n",
    "    print(element.text) \n",
    "driver.close()"
   ]
  },
  {
   "cell_type": "code",
   "execution_count": null,
   "metadata": {},
   "outputs": [],
   "source": []
  }
 ],
 "metadata": {
  "interpreter": {
   "hash": "bb81b1b8acca9b64f189463e446233292aa5d8f169c3826c8980e5844dfab148"
  },
  "kernelspec": {
   "display_name": "Python 3.10.2 64-bit (windows store)",
   "language": "python",
   "name": "python3"
  },
  "language_info": {
   "codemirror_mode": {
    "name": "ipython",
    "version": 3
   },
   "file_extension": ".py",
   "mimetype": "text/x-python",
   "name": "python",
   "nbconvert_exporter": "python",
   "pygments_lexer": "ipython3",
   "version": "3.10.2"
  },
  "orig_nbformat": 4
 },
 "nbformat": 4,
 "nbformat_minor": 2
}
