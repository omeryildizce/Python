{
 "cells": [
  {
   "cell_type": "code",
   "execution_count": 2,
   "metadata": {},
   "outputs": [
    {
     "name": "stderr",
     "output_type": "stream",
     "text": [
      "C:\\Users\\omery\\AppData\\Local\\Temp\\ipykernel_4188\\958876543.py:18: DeprecationWarning: find_element_by_* commands are deprecated. Please use find_element() instead\n",
      "  self.browser.find_element_by_xpath('//*[@id=\"login_field\"]').send_keys(self.username)\n",
      "C:\\Users\\omery\\AppData\\Local\\Temp\\ipykernel_4188\\958876543.py:19: DeprecationWarning: find_element_by_* commands are deprecated. Please use find_element() instead\n",
      "  self.browser.find_element_by_xpath('//*[@id=\"password\"]').send_keys(self.password)\n",
      "C:\\Users\\omery\\AppData\\Local\\Temp\\ipykernel_4188\\958876543.py:22: DeprecationWarning: find_element_by_* commands are deprecated. Please use find_element() instead\n",
      "  self.browser.find_element_by_xpath('//*[@id=\"login\"]/div[4]/form/div/input[12]').click()\n"
     ]
    }
   ],
   "source": [
    "from p05_githubUserInfo import username,password\n",
    "from selenium import webdriver\n",
    "import time\n",
    "\n",
    "\n",
    "class Github:\n",
    "    def __init__(self, username, password):\n",
    "        self.browser = webdriver.Chrome()\n",
    "        \n",
    "        self.username = username\n",
    "        self.password = password\n",
    "        self.followers = []\n",
    "\n",
    "    def sigIn(self):\n",
    "        self.browser.get(\"https://github.com/login\")\n",
    "        time.sleep(2)\n",
    "\n",
    "        self.browser.find_element_by_xpath('//*[@id=\"login_field\"]').send_keys(self.username)\n",
    "        self.browser.find_element_by_xpath('//*[@id=\"password\"]').send_keys(self.password)\n",
    "      \n",
    "        time.sleep(1)\n",
    "        self.browser.find_element_by_xpath('//*[@id=\"login\"]/div[4]/form/div/input[12]').click()\n",
    "    def getFollowers(self):\n",
    "        self.browser.get(\"https://github.com/7omerYILDIZ?tab=followers\")\n",
    "        time.sleep(2)   \n",
    "    time.sleep(2)\n",
    "    #self.browser.close()\n",
    "    \n",
    "github = Github(username,password)\n",
    "github.sigIn()\n",
    "\n"
   ]
  }
 ],
 "metadata": {
  "interpreter": {
   "hash": "bb81b1b8acca9b64f189463e446233292aa5d8f169c3826c8980e5844dfab148"
  },
  "kernelspec": {
   "display_name": "Python 3.10.2 64-bit (windows store)",
   "language": "python",
   "name": "python3"
  },
  "language_info": {
   "codemirror_mode": {
    "name": "ipython",
    "version": 3
   },
   "file_extension": ".py",
   "mimetype": "text/x-python",
   "name": "python",
   "nbconvert_exporter": "python",
   "pygments_lexer": "ipython3",
   "version": "3.10.2"
  },
  "orig_nbformat": 4
 },
 "nbformat": 4,
 "nbformat_minor": 2
}
