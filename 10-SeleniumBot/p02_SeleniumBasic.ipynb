{
 "cells": [
  {
   "cell_type": "code",
   "execution_count": 14,
   "metadata": {},
   "outputs": [
    {
     "name": "stdout",
     "output_type": "stream",
     "text": [
      "GitHub: Where the world builds software · GitHub\n",
      "GitHub - 7omerYILDIZ/Python\n"
     ]
    }
   ],
   "source": [
    "from selenium import webdriver\n",
    "import time\n",
    "\n",
    "driver = webdriver.Chrome()\n",
    "\n",
    "url = \"https://github.com\"\n",
    "driver.get(url)\n",
    "\n",
    "time.sleep(2)\n",
    "\n",
    "print(driver.title)\n",
    "driver.maximize_window()\n",
    "driver.save_screenshot(\"github.com-homeğage.png\")\n",
    "\n",
    "url = \"https://github.com/7omerYILDIZ/Python\"\n",
    "driver.get(url)\n",
    "print(driver.title)\n",
    "\n",
    "if \"7omerYILDIZ\" in driver.title:\n",
    "    driver.save_screenshot(\"github-omeryildiz.png\")\n",
    "time.sleep(2)\n",
    "\n",
    "driver.back()\n",
    "time.sleep(3)\n",
    "driver.close()"
   ]
  },
  {
   "cell_type": "code",
   "execution_count": null,
   "metadata": {},
   "outputs": [],
   "source": []
  }
 ],
 "metadata": {
  "interpreter": {
   "hash": "bb81b1b8acca9b64f189463e446233292aa5d8f169c3826c8980e5844dfab148"
  },
  "kernelspec": {
   "display_name": "Python 3.10.2 64-bit (windows store)",
   "language": "python",
   "name": "python3"
  },
  "language_info": {
   "codemirror_mode": {
    "name": "ipython",
    "version": 3
   },
   "file_extension": ".py",
   "mimetype": "text/x-python",
   "name": "python",
   "nbconvert_exporter": "python",
   "pygments_lexer": "ipython3",
   "version": "3.10.2"
  },
  "orig_nbformat": 4
 },
 "nbformat": 4,
 "nbformat_minor": 2
}
