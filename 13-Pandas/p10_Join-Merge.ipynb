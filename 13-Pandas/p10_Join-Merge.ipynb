{
 "cells": [
  {
   "cell_type": "code",
   "execution_count": 5,
   "metadata": {},
   "outputs": [],
   "source": [
    "import pandas as pd \n",
    "\n",
    "customers = {\n",
    "    \"CustomerId\":[1,2,3,4],\n",
    "    \"FirstName\":[\"Ahmet\",\"Ali\",\"Hasan\",\"Canan\"],\n",
    "    \"LastName\":[\"Yılmaz\",\"Korkmaz\",\"Çelik\",\"Toprak\"]\n",
    "}\n",
    "\n",
    "orders = {\n",
    "    \"OrderId\":[10,11,12,13],\n",
    "    \"CustomerId\":[1,2,5,7],\n",
    "    \"OrderDate\":[\"2022-02-02\",\"2022-02-02\",\"2022-03-02\",\"2022-04-02\"]\n",
    "\n",
    "}"
   ]
  },
  {
   "cell_type": "code",
   "execution_count": 9,
   "metadata": {},
   "outputs": [],
   "source": [
    "df_customers = pd.DataFrame(customers,columns=[\"CustomerId\",\"FirstName\",\"LastName\"])\n",
    "df_orders = pd.DataFrame(orders,columns=[\"OrderId\",\"CustomerId\",\"OrderDate\"])"
   ]
  },
  {
   "cell_type": "code",
   "execution_count": 13,
   "metadata": {},
   "outputs": [
    {
     "data": {
      "text/html": [
       "<div>\n",
       "<style scoped>\n",
       "    .dataframe tbody tr th:only-of-type {\n",
       "        vertical-align: middle;\n",
       "    }\n",
       "\n",
       "    .dataframe tbody tr th {\n",
       "        vertical-align: top;\n",
       "    }\n",
       "\n",
       "    .dataframe thead th {\n",
       "        text-align: right;\n",
       "    }\n",
       "</style>\n",
       "<table border=\"1\" class=\"dataframe\">\n",
       "  <thead>\n",
       "    <tr style=\"text-align: right;\">\n",
       "      <th></th>\n",
       "      <th>CustomerId</th>\n",
       "      <th>FirstName</th>\n",
       "      <th>LastName</th>\n",
       "      <th>OrderId</th>\n",
       "      <th>OrderDate</th>\n",
       "    </tr>\n",
       "  </thead>\n",
       "  <tbody>\n",
       "    <tr>\n",
       "      <th>0</th>\n",
       "      <td>1</td>\n",
       "      <td>Ahmet</td>\n",
       "      <td>Yılmaz</td>\n",
       "      <td>10</td>\n",
       "      <td>2022-02-02</td>\n",
       "    </tr>\n",
       "    <tr>\n",
       "      <th>1</th>\n",
       "      <td>2</td>\n",
       "      <td>Ali</td>\n",
       "      <td>Korkmaz</td>\n",
       "      <td>11</td>\n",
       "      <td>2022-02-02</td>\n",
       "    </tr>\n",
       "  </tbody>\n",
       "</table>\n",
       "</div>"
      ],
      "text/plain": [
       "   CustomerId FirstName LastName  OrderId   OrderDate\n",
       "0           1     Ahmet   Yılmaz       10  2022-02-02\n",
       "1           2       Ali  Korkmaz       11  2022-02-02"
      ]
     },
     "execution_count": 13,
     "metadata": {},
     "output_type": "execute_result"
    }
   ],
   "source": [
    "pd.merge(df_customers,df_orders)"
   ]
  },
  {
   "cell_type": "code",
   "execution_count": 15,
   "metadata": {},
   "outputs": [
    {
     "data": {
      "text/html": [
       "<div>\n",
       "<style scoped>\n",
       "    .dataframe tbody tr th:only-of-type {\n",
       "        vertical-align: middle;\n",
       "    }\n",
       "\n",
       "    .dataframe tbody tr th {\n",
       "        vertical-align: top;\n",
       "    }\n",
       "\n",
       "    .dataframe thead th {\n",
       "        text-align: right;\n",
       "    }\n",
       "</style>\n",
       "<table border=\"1\" class=\"dataframe\">\n",
       "  <thead>\n",
       "    <tr style=\"text-align: right;\">\n",
       "      <th></th>\n",
       "      <th>CustomerId</th>\n",
       "      <th>FirstName</th>\n",
       "      <th>LastName</th>\n",
       "      <th>OrderId</th>\n",
       "      <th>OrderDate</th>\n",
       "    </tr>\n",
       "  </thead>\n",
       "  <tbody>\n",
       "    <tr>\n",
       "      <th>0</th>\n",
       "      <td>1</td>\n",
       "      <td>Ahmet</td>\n",
       "      <td>Yılmaz</td>\n",
       "      <td>10</td>\n",
       "      <td>2022-02-02</td>\n",
       "    </tr>\n",
       "    <tr>\n",
       "      <th>1</th>\n",
       "      <td>2</td>\n",
       "      <td>Ali</td>\n",
       "      <td>Korkmaz</td>\n",
       "      <td>11</td>\n",
       "      <td>2022-02-02</td>\n",
       "    </tr>\n",
       "  </tbody>\n",
       "</table>\n",
       "</div>"
      ],
      "text/plain": [
       "   CustomerId FirstName LastName  OrderId   OrderDate\n",
       "0           1     Ahmet   Yılmaz       10  2022-02-02\n",
       "1           2       Ali  Korkmaz       11  2022-02-02"
      ]
     },
     "execution_count": 15,
     "metadata": {},
     "output_type": "execute_result"
    }
   ],
   "source": [
    "pd.merge(df_customers,df_orders,how=\"inner\")"
   ]
  },
  {
   "cell_type": "code",
   "execution_count": 16,
   "metadata": {},
   "outputs": [
    {
     "data": {
      "text/html": [
       "<div>\n",
       "<style scoped>\n",
       "    .dataframe tbody tr th:only-of-type {\n",
       "        vertical-align: middle;\n",
       "    }\n",
       "\n",
       "    .dataframe tbody tr th {\n",
       "        vertical-align: top;\n",
       "    }\n",
       "\n",
       "    .dataframe thead th {\n",
       "        text-align: right;\n",
       "    }\n",
       "</style>\n",
       "<table border=\"1\" class=\"dataframe\">\n",
       "  <thead>\n",
       "    <tr style=\"text-align: right;\">\n",
       "      <th></th>\n",
       "      <th>CustomerId</th>\n",
       "      <th>FirstName</th>\n",
       "      <th>LastName</th>\n",
       "      <th>OrderId</th>\n",
       "      <th>OrderDate</th>\n",
       "    </tr>\n",
       "  </thead>\n",
       "  <tbody>\n",
       "    <tr>\n",
       "      <th>0</th>\n",
       "      <td>1</td>\n",
       "      <td>Ahmet</td>\n",
       "      <td>Yılmaz</td>\n",
       "      <td>10.0</td>\n",
       "      <td>2022-02-02</td>\n",
       "    </tr>\n",
       "    <tr>\n",
       "      <th>1</th>\n",
       "      <td>2</td>\n",
       "      <td>Ali</td>\n",
       "      <td>Korkmaz</td>\n",
       "      <td>11.0</td>\n",
       "      <td>2022-02-02</td>\n",
       "    </tr>\n",
       "    <tr>\n",
       "      <th>2</th>\n",
       "      <td>3</td>\n",
       "      <td>Hasan</td>\n",
       "      <td>Çelik</td>\n",
       "      <td>NaN</td>\n",
       "      <td>NaN</td>\n",
       "    </tr>\n",
       "    <tr>\n",
       "      <th>3</th>\n",
       "      <td>4</td>\n",
       "      <td>Canan</td>\n",
       "      <td>Toprak</td>\n",
       "      <td>NaN</td>\n",
       "      <td>NaN</td>\n",
       "    </tr>\n",
       "  </tbody>\n",
       "</table>\n",
       "</div>"
      ],
      "text/plain": [
       "   CustomerId FirstName LastName  OrderId   OrderDate\n",
       "0           1     Ahmet   Yılmaz     10.0  2022-02-02\n",
       "1           2       Ali  Korkmaz     11.0  2022-02-02\n",
       "2           3     Hasan    Çelik      NaN         NaN\n",
       "3           4     Canan   Toprak      NaN         NaN"
      ]
     },
     "execution_count": 16,
     "metadata": {},
     "output_type": "execute_result"
    }
   ],
   "source": [
    "pd.merge(df_customers,df_orders,how=\"left\")"
   ]
  },
  {
   "cell_type": "code",
   "execution_count": 17,
   "metadata": {},
   "outputs": [
    {
     "data": {
      "text/html": [
       "<div>\n",
       "<style scoped>\n",
       "    .dataframe tbody tr th:only-of-type {\n",
       "        vertical-align: middle;\n",
       "    }\n",
       "\n",
       "    .dataframe tbody tr th {\n",
       "        vertical-align: top;\n",
       "    }\n",
       "\n",
       "    .dataframe thead th {\n",
       "        text-align: right;\n",
       "    }\n",
       "</style>\n",
       "<table border=\"1\" class=\"dataframe\">\n",
       "  <thead>\n",
       "    <tr style=\"text-align: right;\">\n",
       "      <th></th>\n",
       "      <th>CustomerId</th>\n",
       "      <th>FirstName</th>\n",
       "      <th>LastName</th>\n",
       "      <th>OrderId</th>\n",
       "      <th>OrderDate</th>\n",
       "    </tr>\n",
       "  </thead>\n",
       "  <tbody>\n",
       "    <tr>\n",
       "      <th>0</th>\n",
       "      <td>1</td>\n",
       "      <td>Ahmet</td>\n",
       "      <td>Yılmaz</td>\n",
       "      <td>10</td>\n",
       "      <td>2022-02-02</td>\n",
       "    </tr>\n",
       "    <tr>\n",
       "      <th>1</th>\n",
       "      <td>2</td>\n",
       "      <td>Ali</td>\n",
       "      <td>Korkmaz</td>\n",
       "      <td>11</td>\n",
       "      <td>2022-02-02</td>\n",
       "    </tr>\n",
       "    <tr>\n",
       "      <th>2</th>\n",
       "      <td>5</td>\n",
       "      <td>NaN</td>\n",
       "      <td>NaN</td>\n",
       "      <td>12</td>\n",
       "      <td>2022-03-02</td>\n",
       "    </tr>\n",
       "    <tr>\n",
       "      <th>3</th>\n",
       "      <td>7</td>\n",
       "      <td>NaN</td>\n",
       "      <td>NaN</td>\n",
       "      <td>13</td>\n",
       "      <td>2022-04-02</td>\n",
       "    </tr>\n",
       "  </tbody>\n",
       "</table>\n",
       "</div>"
      ],
      "text/plain": [
       "   CustomerId FirstName LastName  OrderId   OrderDate\n",
       "0           1     Ahmet   Yılmaz       10  2022-02-02\n",
       "1           2       Ali  Korkmaz       11  2022-02-02\n",
       "2           5       NaN      NaN       12  2022-03-02\n",
       "3           7       NaN      NaN       13  2022-04-02"
      ]
     },
     "execution_count": 17,
     "metadata": {},
     "output_type": "execute_result"
    }
   ],
   "source": [
    "pd.merge(df_customers,df_orders,how=\"right\")"
   ]
  },
  {
   "cell_type": "code",
   "execution_count": 20,
   "metadata": {},
   "outputs": [],
   "source": [
    "customersA = {\n",
    "    \"CustomerId\":[1,2,3,4],\n",
    "    \"FirstName\":[\"Ahmet\",\"Ali\",\"Hasan\",\"Canan\"],\n",
    "    \"LastName\":[\"Yılmaz\",\"Korkmaz\",\"Çelik\",\"Toprak\"]\n",
    "}\n",
    "customersB = {\n",
    "    \"CustomerId\":[5,6,7,8],\n",
    "    \"FirstName\":[\"Yağmur\",\"Çınar\",\"Cengiz\",\"Can\"],\n",
    "    \"LastName\":[\"Bilge\",\"Turan\",\"Yılmaz\",\"Turan\"]\n",
    "}\n",
    "\n",
    "orders = {\n",
    "    \"OrderId\":[10,11,12,13],\n",
    "    \"CustomerId\":[1,2,5,7],\n",
    "    \"OrderDate\":[\"2022-02-02\",\"2022-02-02\",\"2022-03-02\",\"2022-04-02\"]\n",
    "}"
   ]
  },
  {
   "cell_type": "code",
   "execution_count": 21,
   "metadata": {},
   "outputs": [],
   "source": [
    "df_customersA = pd.DataFrame(customersA,columns=[\"CustomerId\",\"FirstName\",\"LastName\"])\n",
    "df_customersB = pd.DataFrame(customersB,columns=[\"CustomerId\",\"FirstName\",\"LastName\"])\n",
    "\n",
    "df_orders = pd.DataFrame(orders,columns=[\"OrderId\",\"CustomerId\",\"OrderDate\"])"
   ]
  },
  {
   "cell_type": "code",
   "execution_count": 24,
   "metadata": {},
   "outputs": [
    {
     "data": {
      "text/plain": [
       "(   CustomerId FirstName LastName  CustomerId FirstName LastName\n",
       " 0           1     Ahmet   Yılmaz           5    Yağmur    Bilge\n",
       " 1           2       Ali  Korkmaz           6     Çınar    Turan\n",
       " 2           3     Hasan    Çelik           7    Cengiz   Yılmaz\n",
       " 3           4     Canan   Toprak           8       Can    Turan,\n",
       "    CustomerId FirstName LastName\n",
       " 0           1     Ahmet   Yılmaz\n",
       " 1           2       Ali  Korkmaz\n",
       " 2           3     Hasan    Çelik\n",
       " 3           4     Canan   Toprak\n",
       " 0           5    Yağmur    Bilge\n",
       " 1           6     Çınar    Turan\n",
       " 2           7    Cengiz   Yılmaz\n",
       " 3           8       Can    Turan)"
      ]
     },
     "execution_count": 24,
     "metadata": {},
     "output_type": "execute_result"
    }
   ],
   "source": [
    "result = pd.concat([df_customersA,df_customersB])\n",
    "result1 = pd.concat([df_customersA,df_customersB],axis=1)\n",
    "result1,result"
   ]
  },
  {
   "cell_type": "code",
   "execution_count": null,
   "metadata": {},
   "outputs": [],
   "source": []
  }
 ],
 "metadata": {
  "interpreter": {
   "hash": "bb81b1b8acca9b64f189463e446233292aa5d8f169c3826c8980e5844dfab148"
  },
  "kernelspec": {
   "display_name": "Python 3.10.2 64-bit (windows store)",
   "language": "python",
   "name": "python3"
  },
  "language_info": {
   "codemirror_mode": {
    "name": "ipython",
    "version": 3
   },
   "file_extension": ".py",
   "mimetype": "text/x-python",
   "name": "python",
   "nbconvert_exporter": "python",
   "pygments_lexer": "ipython3",
   "version": "3.10.2"
  },
  "orig_nbformat": 4
 },
 "nbformat": 4,
 "nbformat_minor": 2
}
