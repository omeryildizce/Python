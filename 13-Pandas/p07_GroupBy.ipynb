{
 "cells": [
  {
   "cell_type": "code",
   "execution_count": 33,
   "metadata": {},
   "outputs": [
    {
     "data": {
      "text/html": [
       "<div>\n",
       "<style scoped>\n",
       "    .dataframe tbody tr th:only-of-type {\n",
       "        vertical-align: middle;\n",
       "    }\n",
       "\n",
       "    .dataframe tbody tr th {\n",
       "        vertical-align: top;\n",
       "    }\n",
       "\n",
       "    .dataframe thead th {\n",
       "        text-align: right;\n",
       "    }\n",
       "</style>\n",
       "<table border=\"1\" class=\"dataframe\">\n",
       "  <thead>\n",
       "    <tr style=\"text-align: right;\">\n",
       "      <th></th>\n",
       "      <th>Id</th>\n",
       "      <th>Çalışan</th>\n",
       "      <th>Departman</th>\n",
       "      <th>Yaş</th>\n",
       "      <th>Semt</th>\n",
       "      <th>Maaş</th>\n",
       "    </tr>\n",
       "  </thead>\n",
       "  <tbody>\n",
       "    <tr>\n",
       "      <th>0</th>\n",
       "      <td>1</td>\n",
       "      <td>Ahmet Yılmaz</td>\n",
       "      <td>İnsan Kaynakları</td>\n",
       "      <td>30</td>\n",
       "      <td>Kadıköy</td>\n",
       "      <td>5000</td>\n",
       "    </tr>\n",
       "    <tr>\n",
       "      <th>1</th>\n",
       "      <td>2</td>\n",
       "      <td>Can Ertürk</td>\n",
       "      <td>Bilgi İşlem</td>\n",
       "      <td>25</td>\n",
       "      <td>Tuzla</td>\n",
       "      <td>3000</td>\n",
       "    </tr>\n",
       "    <tr>\n",
       "      <th>2</th>\n",
       "      <td>3</td>\n",
       "      <td>Hasan Korkmaz</td>\n",
       "      <td>Muhasebe</td>\n",
       "      <td>45</td>\n",
       "      <td>Maltepe</td>\n",
       "      <td>4000</td>\n",
       "    </tr>\n",
       "    <tr>\n",
       "      <th>3</th>\n",
       "      <td>4</td>\n",
       "      <td>Cenk Saymaz</td>\n",
       "      <td>İnsan Kaynakları</td>\n",
       "      <td>50</td>\n",
       "      <td>Tuzla</td>\n",
       "      <td>3500</td>\n",
       "    </tr>\n",
       "    <tr>\n",
       "      <th>4</th>\n",
       "      <td>5</td>\n",
       "      <td>Ali Turan</td>\n",
       "      <td>Bilgi İşlem</td>\n",
       "      <td>23</td>\n",
       "      <td>Maltepe</td>\n",
       "      <td>2750</td>\n",
       "    </tr>\n",
       "    <tr>\n",
       "      <th>5</th>\n",
       "      <td>6</td>\n",
       "      <td>Rıza Ertürk</td>\n",
       "      <td>Muhasebe</td>\n",
       "      <td>34</td>\n",
       "      <td>Tuzla</td>\n",
       "      <td>6500</td>\n",
       "    </tr>\n",
       "    <tr>\n",
       "      <th>6</th>\n",
       "      <td>7</td>\n",
       "      <td>Mustafa Can</td>\n",
       "      <td>Bilgi İşlem</td>\n",
       "      <td>42</td>\n",
       "      <td>Kadıköy</td>\n",
       "      <td>4500</td>\n",
       "    </tr>\n",
       "  </tbody>\n",
       "</table>\n",
       "</div>"
      ],
      "text/plain": [
       "   Id        Çalışan         Departman  Yaş     Semt  Maaş\n",
       "0   1   Ahmet Yılmaz  İnsan Kaynakları   30  Kadıköy  5000\n",
       "1   2     Can Ertürk       Bilgi İşlem   25    Tuzla  3000\n",
       "2   3  Hasan Korkmaz          Muhasebe   45  Maltepe  4000\n",
       "3   4    Cenk Saymaz  İnsan Kaynakları   50    Tuzla  3500\n",
       "4   5      Ali Turan       Bilgi İşlem   23  Maltepe  2750\n",
       "5   6    Rıza Ertürk          Muhasebe   34    Tuzla  6500\n",
       "6   7    Mustafa Can       Bilgi İşlem   42  Kadıköy  4500"
      ]
     },
     "execution_count": 33,
     "metadata": {},
     "output_type": "execute_result"
    }
   ],
   "source": [
    "import pandas as pd\n",
    "\n",
    "df = pd.read_csv(\"calisan.csv\")\n",
    "df"
   ]
  },
  {
   "cell_type": "code",
   "execution_count": 34,
   "metadata": {},
   "outputs": [
    {
     "data": {
      "text/plain": [
       "29250"
      ]
     },
     "execution_count": 34,
     "metadata": {},
     "output_type": "execute_result"
    }
   ],
   "source": [
    "df[\"Maaş\"].sum()"
   ]
  },
  {
   "cell_type": "code",
   "execution_count": 35,
   "metadata": {},
   "outputs": [
    {
     "data": {
      "text/plain": [
       "<pandas.core.groupby.generic.DataFrameGroupBy object at 0x000001AD25893940>"
      ]
     },
     "execution_count": 35,
     "metadata": {},
     "output_type": "execute_result"
    }
   ],
   "source": [
    "df.groupby(\"Departman\")"
   ]
  },
  {
   "cell_type": "code",
   "execution_count": 36,
   "metadata": {},
   "outputs": [
    {
     "data": {
      "text/plain": [
       "{'Bilgi İşlem': [1, 4, 6], 'Muhasebe': [2, 5], 'İnsan Kaynakları': [0, 3]}"
      ]
     },
     "execution_count": 36,
     "metadata": {},
     "output_type": "execute_result"
    }
   ],
   "source": [
    "df.groupby(\"Departman\").groups"
   ]
  },
  {
   "cell_type": "code",
   "execution_count": 37,
   "metadata": {},
   "outputs": [
    {
     "data": {
      "text/plain": [
       "{('Bilgi İşlem', 'Kadıköy'): [6], ('Bilgi İşlem', 'Maltepe'): [4], ('Bilgi İşlem', 'Tuzla'): [1], ('Muhasebe', 'Maltepe'): [2], ('Muhasebe', 'Tuzla'): [5], ('İnsan Kaynakları', 'Kadıköy'): [0], ('İnsan Kaynakları', 'Tuzla'): [3]}"
      ]
     },
     "execution_count": 37,
     "metadata": {},
     "output_type": "execute_result"
    }
   ],
   "source": [
    "df.groupby([\"Departman\",\"Semt\"]).groups"
   ]
  },
  {
   "cell_type": "code",
   "execution_count": 38,
   "metadata": {},
   "outputs": [
    {
     "name": "stdout",
     "output_type": "stream",
     "text": [
      "Kadıköy\n",
      "   Id       Çalışan         Departman  Yaş     Semt  Maaş\n",
      "0   1  Ahmet Yılmaz  İnsan Kaynakları   30  Kadıköy  5000\n",
      "6   7   Mustafa Can       Bilgi İşlem   42  Kadıköy  4500\n",
      "Maltepe\n",
      "   Id        Çalışan    Departman  Yaş     Semt  Maaş\n",
      "2   3  Hasan Korkmaz     Muhasebe   45  Maltepe  4000\n",
      "4   5      Ali Turan  Bilgi İşlem   23  Maltepe  2750\n",
      "Tuzla\n",
      "   Id      Çalışan         Departman  Yaş   Semt  Maaş\n",
      "1   2   Can Ertürk       Bilgi İşlem   25  Tuzla  3000\n",
      "3   4  Cenk Saymaz  İnsan Kaynakları   50  Tuzla  3500\n",
      "5   6  Rıza Ertürk          Muhasebe   34  Tuzla  6500\n"
     ]
    }
   ],
   "source": [
    "semtler = df.groupby(\"Semt\")\n",
    "for name,group in semtler:\n",
    "    print(name)\n",
    "    print(group)\n"
   ]
  },
  {
   "cell_type": "code",
   "execution_count": 39,
   "metadata": {},
   "outputs": [
    {
     "name": "stdout",
     "output_type": "stream",
     "text": [
      "Bilgi İşlem\n",
      "   Id       Çalışan    Departman  Yaş     Semt  Maaş\n",
      "1   2    Can Ertürk  Bilgi İşlem   25    Tuzla  3000\n",
      "4   5     Ali Turan  Bilgi İşlem   23  Maltepe  2750\n",
      "6   7   Mustafa Can  Bilgi İşlem   42  Kadıköy  4500\n",
      "Muhasebe\n",
      "   Id        Çalışan Departman  Yaş     Semt  Maaş\n",
      "2   3  Hasan Korkmaz  Muhasebe   45  Maltepe  4000\n",
      "5   6    Rıza Ertürk  Muhasebe   34    Tuzla  6500\n",
      "İnsan Kaynakları\n",
      "   Id       Çalışan         Departman  Yaş     Semt  Maaş\n",
      "0   1  Ahmet Yılmaz  İnsan Kaynakları   30  Kadıköy  5000\n",
      "3   4   Cenk Saymaz  İnsan Kaynakları   50    Tuzla  3500\n"
     ]
    }
   ],
   "source": [
    "departman = df.groupby(\"Departman\")\n",
    "\n",
    "for depart, list in departman:\n",
    "    print(depart)\n",
    "    print(list)"
   ]
  },
  {
   "cell_type": "code",
   "execution_count": 40,
   "metadata": {},
   "outputs": [
    {
     "data": {
      "text/html": [
       "<div>\n",
       "<style scoped>\n",
       "    .dataframe tbody tr th:only-of-type {\n",
       "        vertical-align: middle;\n",
       "    }\n",
       "\n",
       "    .dataframe tbody tr th {\n",
       "        vertical-align: top;\n",
       "    }\n",
       "\n",
       "    .dataframe thead th {\n",
       "        text-align: right;\n",
       "    }\n",
       "</style>\n",
       "<table border=\"1\" class=\"dataframe\">\n",
       "  <thead>\n",
       "    <tr style=\"text-align: right;\">\n",
       "      <th></th>\n",
       "      <th>Id</th>\n",
       "      <th>Çalışan</th>\n",
       "      <th>Departman</th>\n",
       "      <th>Yaş</th>\n",
       "      <th>Semt</th>\n",
       "      <th>Maaş</th>\n",
       "    </tr>\n",
       "  </thead>\n",
       "  <tbody>\n",
       "    <tr>\n",
       "      <th>0</th>\n",
       "      <td>1</td>\n",
       "      <td>Ahmet Yılmaz</td>\n",
       "      <td>İnsan Kaynakları</td>\n",
       "      <td>30</td>\n",
       "      <td>Kadıköy</td>\n",
       "      <td>5000</td>\n",
       "    </tr>\n",
       "    <tr>\n",
       "      <th>6</th>\n",
       "      <td>7</td>\n",
       "      <td>Mustafa Can</td>\n",
       "      <td>Bilgi İşlem</td>\n",
       "      <td>42</td>\n",
       "      <td>Kadıköy</td>\n",
       "      <td>4500</td>\n",
       "    </tr>\n",
       "  </tbody>\n",
       "</table>\n",
       "</div>"
      ],
      "text/plain": [
       "   Id       Çalışan         Departman  Yaş     Semt  Maaş\n",
       "0   1  Ahmet Yılmaz  İnsan Kaynakları   30  Kadıköy  5000\n",
       "6   7   Mustafa Can       Bilgi İşlem   42  Kadıköy  4500"
      ]
     },
     "execution_count": 40,
     "metadata": {},
     "output_type": "execute_result"
    }
   ],
   "source": [
    "df.groupby(\"Semt\").get_group(\"Kadıköy\")"
   ]
  },
  {
   "cell_type": "code",
   "execution_count": 41,
   "metadata": {},
   "outputs": [
    {
     "data": {
      "text/html": [
       "<div>\n",
       "<style scoped>\n",
       "    .dataframe tbody tr th:only-of-type {\n",
       "        vertical-align: middle;\n",
       "    }\n",
       "\n",
       "    .dataframe tbody tr th {\n",
       "        vertical-align: top;\n",
       "    }\n",
       "\n",
       "    .dataframe thead th {\n",
       "        text-align: right;\n",
       "    }\n",
       "</style>\n",
       "<table border=\"1\" class=\"dataframe\">\n",
       "  <thead>\n",
       "    <tr style=\"text-align: right;\">\n",
       "      <th></th>\n",
       "      <th>Id</th>\n",
       "      <th>Yaş</th>\n",
       "      <th>Maaş</th>\n",
       "    </tr>\n",
       "    <tr>\n",
       "      <th>Departman</th>\n",
       "      <th></th>\n",
       "      <th></th>\n",
       "      <th></th>\n",
       "    </tr>\n",
       "  </thead>\n",
       "  <tbody>\n",
       "    <tr>\n",
       "      <th>Bilgi İşlem</th>\n",
       "      <td>14</td>\n",
       "      <td>90</td>\n",
       "      <td>10250</td>\n",
       "    </tr>\n",
       "    <tr>\n",
       "      <th>Muhasebe</th>\n",
       "      <td>9</td>\n",
       "      <td>79</td>\n",
       "      <td>10500</td>\n",
       "    </tr>\n",
       "    <tr>\n",
       "      <th>İnsan Kaynakları</th>\n",
       "      <td>5</td>\n",
       "      <td>80</td>\n",
       "      <td>8500</td>\n",
       "    </tr>\n",
       "  </tbody>\n",
       "</table>\n",
       "</div>"
      ],
      "text/plain": [
       "                  Id  Yaş   Maaş\n",
       "Departman                       \n",
       "Bilgi İşlem       14   90  10250\n",
       "Muhasebe           9   79  10500\n",
       "İnsan Kaynakları   5   80   8500"
      ]
     },
     "execution_count": 41,
     "metadata": {},
     "output_type": "execute_result"
    }
   ],
   "source": [
    "df.groupby(\"Departman\").sum()\n"
   ]
  },
  {
   "cell_type": "code",
   "execution_count": 43,
   "metadata": {},
   "outputs": [
    {
     "data": {
      "text/plain": [
       "Departman\n",
       "Bilgi İşlem         3416.666667\n",
       "Muhasebe            5250.000000\n",
       "İnsan Kaynakları    4250.000000\n",
       "Name: Maaş, dtype: float64"
      ]
     },
     "execution_count": 43,
     "metadata": {},
     "output_type": "execute_result"
    }
   ],
   "source": [
    "df.groupby(\"Departman\")[\"Maaş\"].mean()"
   ]
  },
  {
   "cell_type": "code",
   "execution_count": 44,
   "metadata": {},
   "outputs": [
    {
     "data": {
      "text/plain": [
       "Semt\n",
       "Kadıköy    36.000000\n",
       "Maltepe    34.000000\n",
       "Tuzla      36.333333\n",
       "Name: Yaş, dtype: float64"
      ]
     },
     "execution_count": 44,
     "metadata": {},
     "output_type": "execute_result"
    }
   ],
   "source": [
    "df.groupby(\"Semt\")[\"Yaş\"].mean()"
   ]
  },
  {
   "cell_type": "code",
   "execution_count": 45,
   "metadata": {},
   "outputs": [
    {
     "data": {
      "text/plain": [
       "Semt\n",
       "Kadıköy    2\n",
       "Maltepe    2\n",
       "Tuzla      3\n",
       "Name: Çalışan, dtype: int64"
      ]
     },
     "execution_count": 45,
     "metadata": {},
     "output_type": "execute_result"
    }
   ],
   "source": [
    "df.groupby(\"Semt\")[\"Çalışan\"].count()"
   ]
  },
  {
   "cell_type": "code",
   "execution_count": 46,
   "metadata": {},
   "outputs": [
    {
     "data": {
      "text/plain": [
       "Departman\n",
       "Bilgi İşlem         42\n",
       "Muhasebe            45\n",
       "İnsan Kaynakları    50\n",
       "Name: Yaş, dtype: int64"
      ]
     },
     "execution_count": 46,
     "metadata": {},
     "output_type": "execute_result"
    }
   ],
   "source": [
    "df.groupby(\"Departman\")[\"Yaş\"].max()"
   ]
  },
  {
   "cell_type": "code",
   "execution_count": 47,
   "metadata": {},
   "outputs": [
    {
     "data": {
      "text/plain": [
       "Departman\n",
       "Bilgi İşlem         2750\n",
       "Muhasebe            4000\n",
       "İnsan Kaynakları    3500\n",
       "Name: Maaş, dtype: int64"
      ]
     },
     "execution_count": 47,
     "metadata": {},
     "output_type": "execute_result"
    }
   ],
   "source": [
    "df.groupby(\"Departman\")[\"Maaş\"].min()"
   ]
  },
  {
   "cell_type": "code",
   "execution_count": 49,
   "metadata": {},
   "outputs": [
    {
     "data": {
      "text/plain": [
       "6500"
      ]
     },
     "execution_count": 49,
     "metadata": {},
     "output_type": "execute_result"
    }
   ],
   "source": [
    "df.groupby(\"Departman\")[\"Maaş\"].max()[\"Muhasebe\"]\n"
   ]
  },
  {
   "cell_type": "code",
   "execution_count": 50,
   "metadata": {},
   "outputs": [
    {
     "data": {
      "text/html": [
       "<div>\n",
       "<style scoped>\n",
       "    .dataframe tbody tr th:only-of-type {\n",
       "        vertical-align: middle;\n",
       "    }\n",
       "\n",
       "    .dataframe tbody tr th {\n",
       "        vertical-align: top;\n",
       "    }\n",
       "\n",
       "    .dataframe thead th {\n",
       "        text-align: right;\n",
       "    }\n",
       "</style>\n",
       "<table border=\"1\" class=\"dataframe\">\n",
       "  <thead>\n",
       "    <tr style=\"text-align: right;\">\n",
       "      <th></th>\n",
       "      <th>Id</th>\n",
       "      <th>Yaş</th>\n",
       "      <th>Maaş</th>\n",
       "    </tr>\n",
       "    <tr>\n",
       "      <th>Departman</th>\n",
       "      <th></th>\n",
       "      <th></th>\n",
       "      <th></th>\n",
       "    </tr>\n",
       "  </thead>\n",
       "  <tbody>\n",
       "    <tr>\n",
       "      <th>Bilgi İşlem</th>\n",
       "      <td>4.666667</td>\n",
       "      <td>30.0</td>\n",
       "      <td>3416.666667</td>\n",
       "    </tr>\n",
       "    <tr>\n",
       "      <th>Muhasebe</th>\n",
       "      <td>4.500000</td>\n",
       "      <td>39.5</td>\n",
       "      <td>5250.000000</td>\n",
       "    </tr>\n",
       "    <tr>\n",
       "      <th>İnsan Kaynakları</th>\n",
       "      <td>2.500000</td>\n",
       "      <td>40.0</td>\n",
       "      <td>4250.000000</td>\n",
       "    </tr>\n",
       "  </tbody>\n",
       "</table>\n",
       "</div>"
      ],
      "text/plain": [
       "                        Id   Yaş         Maaş\n",
       "Departman                                    \n",
       "Bilgi İşlem       4.666667  30.0  3416.666667\n",
       "Muhasebe          4.500000  39.5  5250.000000\n",
       "İnsan Kaynakları  2.500000  40.0  4250.000000"
      ]
     },
     "execution_count": 50,
     "metadata": {},
     "output_type": "execute_result"
    }
   ],
   "source": [
    "import numpy as np\n",
    "df.groupby(\"Departman\").agg(np.mean)"
   ]
  },
  {
   "cell_type": "code",
   "execution_count": 54,
   "metadata": {},
   "outputs": [
    {
     "data": {
      "text/html": [
       "<div>\n",
       "<style scoped>\n",
       "    .dataframe tbody tr th:only-of-type {\n",
       "        vertical-align: middle;\n",
       "    }\n",
       "\n",
       "    .dataframe tbody tr th {\n",
       "        vertical-align: top;\n",
       "    }\n",
       "\n",
       "    .dataframe thead th {\n",
       "        text-align: right;\n",
       "    }\n",
       "</style>\n",
       "<table border=\"1\" class=\"dataframe\">\n",
       "  <thead>\n",
       "    <tr style=\"text-align: right;\">\n",
       "      <th></th>\n",
       "      <th>mean</th>\n",
       "      <th>amin</th>\n",
       "      <th>amax</th>\n",
       "      <th>sum</th>\n",
       "    </tr>\n",
       "    <tr>\n",
       "      <th>Departman</th>\n",
       "      <th></th>\n",
       "      <th></th>\n",
       "      <th></th>\n",
       "      <th></th>\n",
       "    </tr>\n",
       "  </thead>\n",
       "  <tbody>\n",
       "    <tr>\n",
       "      <th>Bilgi İşlem</th>\n",
       "      <td>3416.666667</td>\n",
       "      <td>2750</td>\n",
       "      <td>4500</td>\n",
       "      <td>10250</td>\n",
       "    </tr>\n",
       "    <tr>\n",
       "      <th>Muhasebe</th>\n",
       "      <td>5250.000000</td>\n",
       "      <td>4000</td>\n",
       "      <td>6500</td>\n",
       "      <td>10500</td>\n",
       "    </tr>\n",
       "    <tr>\n",
       "      <th>İnsan Kaynakları</th>\n",
       "      <td>4250.000000</td>\n",
       "      <td>3500</td>\n",
       "      <td>5000</td>\n",
       "      <td>8500</td>\n",
       "    </tr>\n",
       "  </tbody>\n",
       "</table>\n",
       "</div>"
      ],
      "text/plain": [
       "                         mean  amin  amax    sum\n",
       "Departman                                       \n",
       "Bilgi İşlem       3416.666667  2750  4500  10250\n",
       "Muhasebe          5250.000000  4000  6500  10500\n",
       "İnsan Kaynakları  4250.000000  3500  5000   8500"
      ]
     },
     "execution_count": 54,
     "metadata": {},
     "output_type": "execute_result"
    }
   ],
   "source": [
    "df.groupby(\"Departman\")[\"Maaş\"].agg([np.mean,np.min,np.max,np.sum])"
   ]
  },
  {
   "cell_type": "code",
   "execution_count": 55,
   "metadata": {},
   "outputs": [
    {
     "data": {
      "text/plain": [
       "mean     5250.0\n",
       "amin     4000.0\n",
       "amax     6500.0\n",
       "sum     10500.0\n",
       "Name: Muhasebe, dtype: float64"
      ]
     },
     "execution_count": 55,
     "metadata": {},
     "output_type": "execute_result"
    }
   ],
   "source": [
    "df.groupby(\"Departman\")[\"Maaş\"].agg([np.mean,np.min,np.max,np.sum]).loc[\"Muhasebe\"]"
   ]
  },
  {
   "cell_type": "code",
   "execution_count": null,
   "metadata": {},
   "outputs": [],
   "source": []
  }
 ],
 "metadata": {
  "interpreter": {
   "hash": "bb81b1b8acca9b64f189463e446233292aa5d8f169c3826c8980e5844dfab148"
  },
  "kernelspec": {
   "display_name": "Python 3.10.2 64-bit (windows store)",
   "language": "python",
   "name": "python3"
  },
  "language_info": {
   "codemirror_mode": {
    "name": "ipython",
    "version": 3
   },
   "file_extension": ".py",
   "mimetype": "text/x-python",
   "name": "python",
   "nbconvert_exporter": "python",
   "pygments_lexer": "ipython3",
   "version": "3.10.2"
  },
  "orig_nbformat": 4
 },
 "nbformat": 4,
 "nbformat_minor": 2
}
