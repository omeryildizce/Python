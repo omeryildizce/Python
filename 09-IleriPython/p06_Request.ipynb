{
 "cells": [
  {
   "cell_type": "code",
   "execution_count": 28,
   "metadata": {},
   "outputs": [
    {
     "name": "stdout",
     "output_type": "stream",
     "text": [
      "<class 'list'>\n"
     ]
    }
   ],
   "source": [
    "import requests\n",
    "import json\n",
    "result = requests.get(\"https://jsonplaceholder.typicode.com/todos\")\n",
    "\n",
    "result = json.loads(result.text)\n",
    "\n",
    "print(type(result))\n"
   ]
  },
  {
   "cell_type": "markdown",
   "metadata": {},
   "source": []
  },
  {
   "cell_type": "code",
   "execution_count": 30,
   "metadata": {},
   "outputs": [
    {
     "data": {
      "text/plain": [
       "'delectus aut autem'"
      ]
     },
     "execution_count": 30,
     "metadata": {},
     "output_type": "execute_result"
    }
   ],
   "source": [
    "result[0][\"title\"]"
   ]
  },
  {
   "cell_type": "code",
   "execution_count": 33,
   "metadata": {},
   "outputs": [
    {
     "name": "stdout",
     "output_type": "stream",
     "text": [
      "delectus aut autem\n",
      "quis ut nam facilis et officia qui\n",
      "fugiat veniam minus\n",
      "et porro tempora\n",
      "laboriosam mollitia et enim quasi adipisci quia provident illum\n",
      "qui ullam ratione quibusdam voluptatem quia omnis\n",
      "illo expedita consequatur quia in\n",
      "quo adipisci enim quam ut ab\n",
      "molestiae perspiciatis ipsa\n",
      "illo est ratione doloremque quia maiores aut\n",
      "vero rerum temporibus dolor\n",
      "ipsa repellendus fugit nisi\n",
      "et doloremque nulla\n",
      "repellendus sunt dolores architecto voluptatum\n",
      "ab voluptatum amet voluptas\n",
      "accusamus eos facilis sint et aut voluptatem\n",
      "quo laboriosam deleniti aut qui\n",
      "dolorum est consequatur ea mollitia in culpa\n",
      "molestiae ipsa aut voluptatibus pariatur dolor nihil\n",
      "ullam nobis libero sapiente ad optio sint\n"
     ]
    }
   ],
   "source": [
    "for i in result:\n",
    "    if i[\"userId\"] ==1:\n",
    "        print(i[\"title\"])"
   ]
  },
  {
   "cell_type": "code",
   "execution_count": null,
   "metadata": {},
   "outputs": [],
   "source": []
  }
 ],
 "metadata": {
  "interpreter": {
   "hash": "bb81b1b8acca9b64f189463e446233292aa5d8f169c3826c8980e5844dfab148"
  },
  "kernelspec": {
   "display_name": "Python 3.10.2 64-bit (windows store)",
   "language": "python",
   "name": "python3"
  },
  "language_info": {
   "codemirror_mode": {
    "name": "ipython",
    "version": 3
   },
   "file_extension": ".py",
   "mimetype": "text/x-python",
   "name": "python",
   "nbconvert_exporter": "python",
   "pygments_lexer": "ipython3",
   "version": "3.10.2"
  },
  "orig_nbformat": 4
 },
 "nbformat": 4,
 "nbformat_minor": 2
}
