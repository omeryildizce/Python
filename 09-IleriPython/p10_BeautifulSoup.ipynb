{
 "cells": [
  {
   "cell_type": "code",
   "execution_count": 14,
   "metadata": {},
   "outputs": [],
   "source": [
    "html_doc = \"\"\"\n",
    "<!DOCTYPE html>\n",
    "<html lang=\"tr\">\n",
    "\n",
    "<head>\n",
    "    <meta charset=\"UTF-8\">\n",
    "    <meta http-equiv=\"X-UA-Compatible\" content=\"IE=edge\">\n",
    "    <meta name=\"viewport\" content=\"width=device-width, initial-scale=1.0\">\n",
    "    <title>Sayfa</title>\n",
    "</head>\n",
    "\n",
    "<body>\n",
    "    <h1 id=\"header\">Python Kursu</h1>\n",
    "    <div class=\"group1\">\n",
    "        <h2>Programlama</h2>\n",
    "        <ul>\n",
    "            <li>Menü 1</li>\n",
    "            <li>Menü 2</li>\n",
    "            <li>Menü 3</li>\n",
    "            <li>Menü 4</li>\n",
    "        </ul>\n",
    "    </div>\n",
    "\n",
    "    <div class=\"group2\">\n",
    "        <h2>Programlama</h2>\n",
    "        <ul>\n",
    "            <li>Menü 1</li>\n",
    "            <li>Menü 2</li>\n",
    "            <li>Menü 3</li>\n",
    "            <li>Menü 4</li>\n",
    "        </ul>\n",
    "    </div>\n",
    "\n",
    "</body>\n",
    "\n",
    "</html>\n",
    "\n",
    "\n",
    "\n",
    "\n",
    "\"\"\"\n"
   ]
  },
  {
   "cell_type": "code",
   "execution_count": 24,
   "metadata": {},
   "outputs": [
    {
     "data": {
      "text/plain": [
       "<div class=\"group2\">\n",
       "<h2>Programlama</h2>\n",
       "<ul>\n",
       "<li>Menü 1</li>\n",
       "<li>Menü 2</li>\n",
       "<li>Menü 3</li>\n",
       "<li>Menü 4</li>\n",
       "</ul>\n",
       "</div>"
      ]
     },
     "execution_count": 24,
     "metadata": {},
     "output_type": "execute_result"
    }
   ],
   "source": [
    "from bs4 import BeautifulSoup as bs\n",
    "\n",
    "soup = bs(html_doc,\"html.parser\")\n",
    "result=soup.prettify()\n",
    "#print(result)\n",
    "\n",
    "title = soup.title \n",
    "head = soup.head\n",
    "body = soup.body\n",
    "\n",
    "titleName = soup.title.name\n",
    "titleText =soup.title.string\n",
    "\n",
    "h1 = soup.h1\n",
    "h2 = soup.h2\n",
    "\n",
    "result = soup.find_all(\"h2\")\n",
    "result = soup.find_all(\"h2\")[0]\n",
    "result = soup.find_all(\"h2\")[1]\n",
    "\n",
    "result=soup.div\n",
    "result = soup.find_all(\"div\")\n",
    "result = soup.find_all(\"div\")[0]\n",
    "result = soup.find_all(\"div\")[1]\n",
    "result = soup.find_all(\"div\")[1].ul\n",
    "result = soup.find_all(\"div\")[1].ul.li\n",
    "result = soup.find_all(\"div\")[1].ul.find_all(\"li\")\n",
    "\n",
    "result = soup.div.findChildren()\n",
    "result = soup.div.findNextSibling()\n",
    "result"
   ]
  }
 ],
 "metadata": {
  "interpreter": {
   "hash": "bb81b1b8acca9b64f189463e446233292aa5d8f169c3826c8980e5844dfab148"
  },
  "kernelspec": {
   "display_name": "Python 3.10.2 64-bit (windows store)",
   "language": "python",
   "name": "python3"
  },
  "language_info": {
   "codemirror_mode": {
    "name": "ipython",
    "version": 3
   },
   "file_extension": ".py",
   "mimetype": "text/x-python",
   "name": "python",
   "nbconvert_exporter": "python",
   "pygments_lexer": "ipython3",
   "version": "3.10.2"
  },
  "orig_nbformat": 4
 },
 "nbformat": 4,
 "nbformat_minor": 2
}
