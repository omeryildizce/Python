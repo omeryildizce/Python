{
 "cells": [
  {
   "cell_type": "code",
   "execution_count": 1,
   "metadata": {},
   "outputs": [],
   "source": [
    "url =\"https://www.n11.com/bilgisayar/dizustu-bilgisayar\"\n",
    "import requests\n",
    "from bs4 import BeautifulSoup as bs\n",
    "\n",
    "html = requests.get(url).content\n",
    "\n",
    "soup = bs(html,\"html.parser\")\n"
   ]
  },
  {
   "cell_type": "code",
   "execution_count": 2,
   "metadata": {},
   "outputs": [
    {
     "name": "stdout",
     "output_type": "stream",
     "text": [
      "name: Monster Tulpar T5 V20.3 i7-11800H 16 GB 500 GB SSD RTX3060 15.6\" Free Dos FHD Dizüstü Bilgisayar\n",
      "link: https://www.n11.com/urun/monster-tulpar-t5-v203-i7-11800h-16-gb-500-gb-ssd-rtx3060-156-free-dos-fhd-dizustu-bilgisayar-2058179?magaza=monster\n",
      "old price: 18.719,87 \n",
      "new price: 17.799,99\n",
      "                \n",
      "name: Monster Abra A7 V13.2.3 i5-11400H 16 GB 500 GB SSD RTX3050Ti 17.3\" Dos FHD Dizüstü Bilgisayar\n",
      "link: https://www.n11.com/urun/monster-abra-a7-v1323-i5-11400h-16-gb-500-gb-ssd-rtx3050ti-173-dos-fhd-dizustu-bilgisayar-2106814?magaza=monster\n",
      "old price: 16.044,38 \n",
      "new price: 15.153,59\n",
      "                \n",
      "name: Lenovo IdeaPad 5 82FE00KGTX i5-1135G7 8 GB 256 GB SSD 14\" W10 Dizüstü Bilgisayar\n",
      "link: https://www.n11.com/urun/lenovo-ideapad-5-82fe00kgtx-i5-1135g7-8-gb-256-gb-ssd-14-w10-dizustu-bilgisayar-2044865?magaza=dotech\n",
      "old price: 8.099,01 \n",
      "new price: 8.099,00\n",
      "                \n",
      "name: Monster Abra A5 V17.2 i5-11400H 8 GB 500 GB SSD 4 GB RTX3050Ti 15.6\" Free Dos FHD Dizüstü Bilgisayar\n",
      "link: https://www.n11.com/urun/monster-abra-a5-v172-i5-11400h-8-gb-500-gb-ssd-4-gb-rtx3050ti-156-free-dos-fhd-dizustu-bilgisayar-2035416?magaza=monster\n",
      "old price: 14.102,58 \n",
      "new price: 13.221,99\n",
      "                \n",
      "name: SÜPER                 Lenovo IdeaPad 3 81W1005QTX Ryzen 7-3700U 8 GB 512 GB SSD 15.6\" Free Dos Dizüstü Bilgisayar\n",
      "link: https://www.n11.com/urun/lenovo-ideapad-3-81w1005qtx-ryzen-7-3700u-8-gb-512-gb-ssd-156-free-dos-dizustu-bilgisayar-1695519?magaza=websiniall\n",
      "old price: 9.058,00 \n",
      "new price: 7.798,99\n",
      "                \n"
     ]
    }
   ],
   "source": [
    "list = soup.find_all(\"li\",{\"class\":\"column\"},limit=5)\n",
    "\n",
    "for li in list:\n",
    "    name = li.div.a.h3.text.strip()\n",
    "    link = li.div.a.get(\"href\")\n",
    "    oldPrice = li.find(\"div\",{\"class\":\"proDetail\"}).find(\"del\").text.strip().strip(\"TL\")\n",
    "    newPrice = li.find(\"div\",{\"class\":\"proDetail\"}).find(\"ins\").text.strip().strip(\"TL\")\n",
    "    \n",
    "    print(\"name: {0}\".format(name))\n",
    "    print(\"link: {0}\".format(link))\n",
    "    print(\"old price: {0}\".format(oldPrice))\n",
    "    print(\"new price: {0}\".format(newPrice))\n",
    "    \n"
   ]
  }
 ],
 "metadata": {
  "interpreter": {
   "hash": "bb81b1b8acca9b64f189463e446233292aa5d8f169c3826c8980e5844dfab148"
  },
  "kernelspec": {
   "display_name": "Python 3.10.2 64-bit (windows store)",
   "language": "python",
   "name": "python3"
  },
  "language_info": {
   "codemirror_mode": {
    "name": "ipython",
    "version": 3
   },
   "file_extension": ".py",
   "mimetype": "text/x-python",
   "name": "python",
   "nbconvert_exporter": "python",
   "pygments_lexer": "ipython3",
   "version": "3.10.2"
  },
  "orig_nbformat": 4
 },
 "nbformat": 4,
 "nbformat_minor": 2
}
