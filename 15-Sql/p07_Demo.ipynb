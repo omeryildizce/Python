{
 "cells": [
  {
   "cell_type": "code",
   "execution_count": 2,
   "metadata": {},
   "outputs": [
    {
     "name": "stdout",
     "output_type": "stream",
     "text": [
      "(13, 101, 'Ahmet', 'Yılmaz', datetime.datetime(2005, 5, 17, 0, 0), 'E')\n",
      "(14, 102, 'Ali', 'Can', datetime.datetime(2005, 6, 27, 0, 0), 'K')\n",
      "(15, 103, 'Canan', 'Tan', datetime.datetime(2005, 7, 7, 0, 0), 'K')\n",
      "(16, 104, 'Ayşe', 'Taner', datetime.datetime(2005, 8, 17, 0, 0), 'K')\n",
      "(17, 105, 'Bahadır', 'Toksöz', datetime.datetime(2005, 9, 7, 0, 0), 'E')\n",
      "(18, 106, 'Ali', 'Cenk', datetime.datetime(2003, 7, 27, 0, 0), 'E')\n",
      "(19, 107, 'Ahmet', 'Kaya', datetime.datetime(2005, 7, 13, 0, 0), 'E')\n",
      "(20, 114, 'Ahmet', 'Yüce', datetime.datetime(2005, 7, 13, 0, 0), 'E')\n",
      "(21, 115, 'Ahmet', 'Yüce', datetime.datetime(2005, 7, 13, 0, 0), 'E')\n",
      "(22, 116, 'Ahmet', 'Yılmaz', datetime.datetime(2005, 5, 17, 0, 0), 'E')\n",
      "(23, 117, 'Ali', 'Can', datetime.datetime(2005, 6, 27, 0, 0), 'K')\n",
      "(24, 118, 'Canan', 'Tan', datetime.datetime(2005, 7, 7, 0, 0), 'K')\n",
      "(25, 119, 'Ayşe', 'Taner', datetime.datetime(2005, 8, 17, 0, 0), 'K')\n",
      "(26, 120, 'Bahadır', 'Toksöz', datetime.datetime(2005, 9, 7, 0, 0), 'E')\n",
      "(27, 121, 'Ali', 'Cenk', datetime.datetime(2003, 7, 27, 0, 0), 'E')\n"
     ]
    }
   ],
   "source": [
    "from connect import sifre\n",
    "import mysql.connector\n",
    "from datetime import datetime\n",
    "\n",
    "def getSchool():\n",
    "    connection = mysql.connector.connect(\n",
    "        host=\"localhost\",\n",
    "        user=\"root\",\n",
    "        password = sifre,\n",
    "        database=\"schooldb\"\n",
    "    )\n",
    "    cursor = connection.cursor()\n",
    "\n",
    "    cursor.execute(\"select * from student\")\n",
    "    result = cursor.fetchall()\n",
    "\n",
    "    for i in result:\n",
    "        print(i)\n",
    "getSchool()\n"
   ]
  },
  {
   "cell_type": "code",
   "execution_count": 3,
   "metadata": {},
   "outputs": [
    {
     "name": "stdout",
     "output_type": "stream",
     "text": [
      "(101, 'Ahmet', 'Yılmaz')\n",
      "(102, 'Ali', 'Can')\n",
      "(103, 'Canan', 'Tan')\n",
      "(104, 'Ayşe', 'Taner')\n",
      "(105, 'Bahadır', 'Toksöz')\n",
      "(106, 'Ali', 'Cenk')\n",
      "(107, 'Ahmet', 'Kaya')\n",
      "(114, 'Ahmet', 'Yüce')\n",
      "(115, 'Ahmet', 'Yüce')\n",
      "(116, 'Ahmet', 'Yılmaz')\n",
      "(117, 'Ali', 'Can')\n",
      "(118, 'Canan', 'Tan')\n",
      "(119, 'Ayşe', 'Taner')\n",
      "(120, 'Bahadır', 'Toksöz')\n",
      "(121, 'Ali', 'Cenk')\n"
     ]
    }
   ],
   "source": [
    "#idStudent, StudentNumber, StudentName, StudentSurname, StudentBirthday, Gender\n",
    "\n",
    "from connect import sifre\n",
    "import mysql.connector\n",
    "from datetime import datetime\n",
    "\n",
    "def getSchool():\n",
    "    connection = mysql.connector.connect(\n",
    "        host=\"localhost\",\n",
    "        user=\"root\",\n",
    "        password = sifre,\n",
    "        database=\"schooldb\"\n",
    "    )\n",
    "    cursor = connection.cursor()\n",
    "\n",
    "    cursor.execute(\"select StudentNumber, StudentName, StudentSurname from student\")\n",
    "    result = cursor.fetchall()\n",
    "\n",
    "    for i in result:\n",
    "        print(i)\n",
    "getSchool()\n"
   ]
  },
  {
   "cell_type": "code",
   "execution_count": 6,
   "metadata": {},
   "outputs": [
    {
     "name": "stdout",
     "output_type": "stream",
     "text": [
      "('Canan', 'Tan')\n",
      "('Ayşe', 'Taner')\n",
      "('Ayşe', 'Can')\n",
      "('Canan', 'Tan')\n",
      "('Ayşe', 'Taner')\n"
     ]
    }
   ],
   "source": [
    "#idStudent, StudentNumber, StudentName, StudentSurname, StudentBirthday, Gender\n",
    "\n",
    "from connect import sifre\n",
    "import mysql.connector\n",
    "from datetime import datetime\n",
    "\n",
    "def getSchool():\n",
    "    connection = mysql.connector.connect(\n",
    "        host=\"localhost\",\n",
    "        user=\"root\",\n",
    "        password = sifre,\n",
    "        database=\"schooldb\"\n",
    "    )\n",
    "    cursor = connection.cursor()\n",
    "\n",
    "    cursor.execute(\"select StudentName, StudentSurname from student where gender = 'K'\")\n",
    "    result = cursor.fetchall()\n",
    "\n",
    "    for i in result:\n",
    "        print(i)\n",
    "getSchool()\n"
   ]
  },
  {
   "cell_type": "code",
   "execution_count": 7,
   "metadata": {},
   "outputs": [
    {
     "name": "stdout",
     "output_type": "stream",
     "text": [
      "(18, 106, 'Ali', 'Cenk', datetime.datetime(2003, 7, 27, 0, 0), 'E')\n",
      "(27, 121, 'Ali', 'Cenk', datetime.datetime(2003, 7, 27, 0, 0), 'E')\n"
     ]
    }
   ],
   "source": [
    "#idStudent, StudentNumber, StudentName, StudentSurname, StudentBirthday, Gender\n",
    "\n",
    "from connect import sifre\n",
    "import mysql.connector\n",
    "from datetime import datetime\n",
    "\n",
    "def getSchool():\n",
    "    connection = mysql.connector.connect(\n",
    "        host=\"localhost\",\n",
    "        user=\"root\",\n",
    "        password = sifre,\n",
    "        database=\"schooldb\"\n",
    "    )\n",
    "    cursor = connection.cursor()\n",
    "\n",
    "    cursor.execute(\"select * from student where StudentBirthday like '%2003%'\")\n",
    "    result = cursor.fetchall()\n",
    "\n",
    "    for i in result:\n",
    "        print(i)\n",
    "getSchool()\n"
   ]
  },
  {
   "cell_type": "code",
   "execution_count": 9,
   "metadata": {},
   "outputs": [
    {
     "name": "stdout",
     "output_type": "stream",
     "text": [
      "(14, 102, 'Ali', 'Can', datetime.datetime(2005, 6, 27, 0, 0), 'E')\n"
     ]
    }
   ],
   "source": [
    "#idStudent, StudentNumber, StudentName, StudentSurname, StudentBirthday, Gender\n",
    "\n",
    "from connect import sifre\n",
    "import mysql.connector\n",
    "from datetime import datetime\n",
    "\n",
    "def getSchool():\n",
    "    connection = mysql.connector.connect(\n",
    "        host=\"localhost\",\n",
    "        user=\"root\",\n",
    "        password = sifre,\n",
    "        database=\"schooldb\"\n",
    "    )\n",
    "    cursor = connection.cursor()\n",
    "\n",
    "    cursor.execute(\"select * from student where year(StudentBirthday) =2005 and StudentName ='ali'\")\n",
    "    result = cursor.fetchall()\n",
    "\n",
    "    for i in result:\n",
    "        print(i)\n",
    "getSchool()\n"
   ]
  },
  {
   "cell_type": "code",
   "execution_count": 12,
   "metadata": {},
   "outputs": [
    {
     "name": "stdout",
     "output_type": "stream",
     "text": [
      "(14, 102, 'Ali', 'Can', datetime.datetime(2005, 6, 27, 0, 0), 'E')\n",
      "(15, 103, 'Canan', 'Tan', datetime.datetime(2005, 7, 7, 0, 0), 'K')\n",
      "(16, 104, 'Ayşe', 'Taner', datetime.datetime(2005, 8, 17, 0, 0), 'K')\n",
      "(23, 117, 'Ayşe', 'Can', datetime.datetime(2005, 6, 27, 0, 0), 'K')\n",
      "(24, 118, 'Canan', 'Tan', datetime.datetime(2005, 7, 7, 0, 0), 'K')\n",
      "(25, 119, 'Ayşe', 'Taner', datetime.datetime(2005, 8, 17, 0, 0), 'K')\n"
     ]
    }
   ],
   "source": [
    "#idStudent, StudentNumber, StudentName, StudentSurname, StudentBirthday, Gender\n",
    "\n",
    "from connect import sifre\n",
    "import mysql.connector\n",
    "from datetime import datetime\n",
    "\n",
    "def getSchool():\n",
    "    connection = mysql.connector.connect(\n",
    "        host=\"localhost\",\n",
    "        user=\"root\",\n",
    "        password = sifre,\n",
    "        database=\"schooldb\"\n",
    "    )\n",
    "    cursor = connection.cursor()\n",
    "\n",
    "    cursor.execute(\"select * from student where StudentName like'%an%' or StudentSurname like'%an%'\")\n",
    "    result = cursor.fetchall()\n",
    "\n",
    "    for i in result:\n",
    "        print(i)\n",
    "getSchool()\n"
   ]
  },
  {
   "cell_type": "code",
   "execution_count": 13,
   "metadata": {},
   "outputs": [
    {
     "name": "stdout",
     "output_type": "stream",
     "text": [
      "(10,)\n"
     ]
    }
   ],
   "source": [
    "#idStudent, StudentNumber, StudentName, StudentSurname, StudentBirthday, Gender\n",
    "\n",
    "from connect import sifre\n",
    "import mysql.connector\n",
    "from datetime import datetime\n",
    "\n",
    "def getSchool():\n",
    "    connection = mysql.connector.connect(\n",
    "        host=\"localhost\",\n",
    "        user=\"root\",\n",
    "        password = sifre,\n",
    "        database=\"schooldb\"\n",
    "    )\n",
    "    cursor = connection.cursor()\n",
    "\n",
    "    cursor.execute(\"select count(*) from student where gender='E'\")\n",
    "    result = cursor.fetchall()\n",
    "\n",
    "    for i in result:\n",
    "        print(i)\n",
    "getSchool()\n"
   ]
  },
  {
   "cell_type": "code",
   "execution_count": 17,
   "metadata": {},
   "outputs": [
    {
     "name": "stdout",
     "output_type": "stream",
     "text": [
      "(15, 103, 'Canan', 'Tan', datetime.datetime(2005, 7, 7, 0, 0), 'K')\n",
      "(24, 118, 'Canan', 'Tan', datetime.datetime(2005, 7, 7, 0, 0), 'K')\n",
      "(16, 104, 'Ayşe', 'Taner', datetime.datetime(2005, 8, 17, 0, 0), 'K')\n",
      "(23, 117, 'Ayşe', 'Can', datetime.datetime(2005, 6, 27, 0, 0), 'K')\n",
      "(25, 119, 'Ayşe', 'Taner', datetime.datetime(2005, 8, 17, 0, 0), 'K')\n"
     ]
    }
   ],
   "source": [
    "#idStudent, StudentNumber, StudentName, StudentSurname, StudentBirthday, Gender\n",
    "\n",
    "from connect import sifre\n",
    "import mysql.connector\n",
    "from datetime import datetime\n",
    "\n",
    "def getSchool():\n",
    "    connection = mysql.connector.connect(\n",
    "        host=\"localhost\",\n",
    "        user=\"root\",\n",
    "        password = sifre,\n",
    "        database=\"schooldb\"\n",
    "    )\n",
    "    cursor = connection.cursor()\n",
    "\n",
    "    cursor.execute(\"select * from student where gender='K'  order by StudentName desc \")\n",
    "    result = cursor.fetchall()\n",
    "\n",
    "    for i in result:\n",
    "        print(i)\n",
    "getSchool()\n"
   ]
  },
  {
   "cell_type": "code",
   "execution_count": null,
   "metadata": {},
   "outputs": [],
   "source": []
  }
 ],
 "metadata": {
  "interpreter": {
   "hash": "bb81b1b8acca9b64f189463e446233292aa5d8f169c3826c8980e5844dfab148"
  },
  "kernelspec": {
   "display_name": "Python 3.10.2 64-bit (windows store)",
   "language": "python",
   "name": "python3"
  },
  "language_info": {
   "codemirror_mode": {
    "name": "ipython",
    "version": 3
   },
   "file_extension": ".py",
   "mimetype": "text/x-python",
   "name": "python",
   "nbconvert_exporter": "python",
   "pygments_lexer": "ipython3",
   "version": "3.10.2"
  },
  "orig_nbformat": 4
 },
 "nbformat": 4,
 "nbformat_minor": 2
}
