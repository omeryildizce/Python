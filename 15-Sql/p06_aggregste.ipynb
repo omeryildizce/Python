{
 "cells": [
  {
   "cell_type": "code",
   "execution_count": 3,
   "metadata": {},
   "outputs": [
    {
     "name": "stdout",
     "output_type": "stream",
     "text": [
      "8\n"
     ]
    }
   ],
   "source": [
    "from matplotlib.pyplot import connect\n",
    "import mysql.connector\n",
    "from connect import sifre \n",
    "\n",
    "def getProductInfo():\n",
    "    connection = mysql.connector.connect(host=\"localhost\",user=\"root\",password=sifre,database=\"node_app\")\n",
    "    cursor = connection.cursor()\n",
    "\n",
    "    sql=\"select count(*) from products\"\n",
    "\n",
    "    cursor.execute(sql)\n",
    "\n",
    "   \n",
    "    result = cursor.fetchone()\n",
    "    print(result[0])\n",
    "\n",
    "getProductInfo()"
   ]
  },
  {
   "cell_type": "code",
   "execution_count": 5,
   "metadata": {},
   "outputs": [
    {
     "name": "stdout",
     "output_type": "stream",
     "text": [
      "7\n"
     ]
    }
   ],
   "source": [
    "from matplotlib.pyplot import connect\n",
    "import mysql.connector\n",
    "from connect import sifre \n",
    "\n",
    "def getProductInfo():\n",
    "    connection = mysql.connector.connect(host=\"localhost\",user=\"root\",password=sifre,database=\"node_app\")\n",
    "    cursor = connection.cursor()\n",
    "\n",
    "    sql=\"select count(name) from products where price>=2000\"\n",
    "\n",
    "    cursor.execute(sql)\n",
    "\n",
    "   \n",
    "    result = cursor.fetchone()\n",
    "    print(result[0])\n",
    "\n",
    "getProductInfo()"
   ]
  },
  {
   "cell_type": "code",
   "execution_count": 6,
   "metadata": {},
   "outputs": [
    {
     "name": "stdout",
     "output_type": "stream",
     "text": [
      "3250.0000\n"
     ]
    }
   ],
   "source": [
    "from matplotlib.pyplot import connect\n",
    "import mysql.connector\n",
    "from connect import sifre \n",
    "\n",
    "def getProductInfo():\n",
    "    connection = mysql.connector.connect(host=\"localhost\",user=\"root\",password=sifre,database=\"node_app\")\n",
    "    cursor = connection.cursor()\n",
    "\n",
    "    sql=\"select avg(price) from products \"\n",
    "\n",
    "    cursor.execute(sql)\n",
    "\n",
    "   \n",
    "    result = cursor.fetchone()\n",
    "    print(result[0])\n",
    "\n",
    "getProductInfo()"
   ]
  },
  {
   "cell_type": "code",
   "execution_count": 7,
   "metadata": {},
   "outputs": [
    {
     "name": "stdout",
     "output_type": "stream",
     "text": [
      "26000\n"
     ]
    }
   ],
   "source": [
    "from matplotlib.pyplot import connect\n",
    "import mysql.connector\n",
    "from connect import sifre \n",
    "\n",
    "def getProductInfo():\n",
    "    connection = mysql.connector.connect(host=\"localhost\",user=\"root\",password=sifre,database=\"node_app\")\n",
    "    cursor = connection.cursor()\n",
    "\n",
    "    sql=\"select sum(price) from products \"\n",
    "\n",
    "    cursor.execute(sql)\n",
    "\n",
    "   \n",
    "    result = cursor.fetchone()\n",
    "    print(result[0])\n",
    "\n",
    "getProductInfo()"
   ]
  },
  {
   "cell_type": "code",
   "execution_count": 8,
   "metadata": {},
   "outputs": [
    {
     "name": "stdout",
     "output_type": "stream",
     "text": [
      "1000\n"
     ]
    }
   ],
   "source": [
    "from matplotlib.pyplot import connect\n",
    "import mysql.connector\n",
    "from connect import sifre \n",
    "\n",
    "def getProductInfo():\n",
    "    connection = mysql.connector.connect(host=\"localhost\",user=\"root\",password=sifre,database=\"node_app\")\n",
    "    cursor = connection.cursor()\n",
    "\n",
    "    sql=\"select min(price) from products \"\n",
    "\n",
    "    cursor.execute(sql)\n",
    "\n",
    "   \n",
    "    result = cursor.fetchone()\n",
    "    print(result[0])\n",
    "\n",
    "getProductInfo()"
   ]
  },
  {
   "cell_type": "code",
   "execution_count": 9,
   "metadata": {},
   "outputs": [
    {
     "name": "stdout",
     "output_type": "stream",
     "text": [
      "5000\n"
     ]
    }
   ],
   "source": [
    "from matplotlib.pyplot import connect\n",
    "import mysql.connector\n",
    "from connect import sifre \n",
    "\n",
    "def getProductInfo():\n",
    "    connection = mysql.connector.connect(host=\"localhost\",user=\"root\",password=sifre,database=\"node_app\")\n",
    "    cursor = connection.cursor()\n",
    "\n",
    "    sql=\"select max(price) from products \"\n",
    "\n",
    "    cursor.execute(sql)\n",
    "\n",
    "   \n",
    "    result = cursor.fetchone()\n",
    "    print(result[0])\n",
    "\n",
    "getProductInfo()"
   ]
  },
  {
   "cell_type": "code",
   "execution_count": 12,
   "metadata": {},
   "outputs": [
    {
     "name": "stdout",
     "output_type": "stream",
     "text": [
      "('Samsung S6', Decimal('2000'))\n"
     ]
    }
   ],
   "source": [
    "from matplotlib.pyplot import connect\n",
    "import mysql.connector\n",
    "from connect import sifre \n",
    "\n",
    "def getProductInfo():\n",
    "    connection = mysql.connector.connect(host=\"localhost\",user=\"root\",password=sifre,database=\"node_app\")\n",
    "    cursor = connection.cursor()\n",
    "\n",
    "    sql=\"select name,price from products where price = (select max(price) products)\"\n",
    "\n",
    "    cursor.execute(sql)\n",
    "\n",
    "   \n",
    "    result = cursor.fetchone()\n",
    "    print(result)\n",
    "\n",
    "getProductInfo()"
   ]
  },
  {
   "cell_type": "code",
   "execution_count": null,
   "metadata": {},
   "outputs": [],
   "source": []
  }
 ],
 "metadata": {
  "interpreter": {
   "hash": "bb81b1b8acca9b64f189463e446233292aa5d8f169c3826c8980e5844dfab148"
  },
  "kernelspec": {
   "display_name": "Python 3.10.2 64-bit (windows store)",
   "language": "python",
   "name": "python3"
  },
  "language_info": {
   "codemirror_mode": {
    "name": "ipython",
    "version": 3
   },
   "file_extension": ".py",
   "mimetype": "text/x-python",
   "name": "python",
   "nbconvert_exporter": "python",
   "pygments_lexer": "ipython3",
   "version": "3.10.2"
  },
  "orig_nbformat": 4
 },
 "nbformat": 4,
 "nbformat_minor": 2
}
