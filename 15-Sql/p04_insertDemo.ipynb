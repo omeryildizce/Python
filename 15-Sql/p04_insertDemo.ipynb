{
 "cells": [
  {
   "cell_type": "code",
   "execution_count": 1,
   "metadata": {},
   "outputs": [],
   "source": [
    "import mysql.connector\n",
    "from connect import connection\n",
    "from datetime import datetime"
   ]
  },
  {
   "cell_type": "code",
   "execution_count": 11,
   "metadata": {},
   "outputs": [
    {
     "ename": "TypeError",
     "evalue": "Student.getProducts() missing 1 required positional argument: 'self'",
     "output_type": "error",
     "traceback": [
      "\u001b[1;31m---------------------------------------------------------------------------\u001b[0m",
      "\u001b[1;31mTypeError\u001b[0m                                 Traceback (most recent call last)",
      "\u001b[1;32mc:\\Users\\omery\\OneDrive\\Belgeler\\Visual Studio\\Python\\15-Sql\\p04_insertDemo.ipynb Cell 2'\u001b[0m in \u001b[0;36m<module>\u001b[1;34m\u001b[0m\n\u001b[0;32m     <a href='vscode-notebook-cell:/c%3A/Users/omery/OneDrive/Belgeler/Visual%20Studio/Python/15-Sql/p04_insertDemo.ipynb#ch0000001?line=40'>41</a>\u001b[0m         result \u001b[39m=\u001b[39m Student\u001b[39m.\u001b[39mmycursor\u001b[39m.\u001b[39mfetchall()\n\u001b[0;32m     <a href='vscode-notebook-cell:/c%3A/Users/omery/OneDrive/Belgeler/Visual%20Studio/Python/15-Sql/p04_insertDemo.ipynb#ch0000001?line=42'>43</a>\u001b[0m         \u001b[39mprint\u001b[39m(result)\n\u001b[1;32m---> <a href='vscode-notebook-cell:/c%3A/Users/omery/OneDrive/Belgeler/Visual%20Studio/Python/15-Sql/p04_insertDemo.ipynb#ch0000001?line=44'>45</a>\u001b[0m Student\u001b[39m.\u001b[39;49mgetProducts()\n",
      "\u001b[1;31mTypeError\u001b[0m: Student.getProducts() missing 1 required positional argument: 'self'"
     ]
    }
   ],
   "source": [
    "class Student:\n",
    "    connection = connection\n",
    "    mycursor = connection.cursor()\n",
    "\n",
    "    def __init__(self,studentNumber, studentName,studentSurname, studentBirthday, gender):\n",
    "        self.studentNumber = studentNumber\n",
    "        self.studentName = studentName\n",
    "        self.studentSurname = studentSurname\n",
    "        self.studentBirthday = studentBirthday\n",
    "        self.gender = gender\n",
    "\n",
    "    def saveStudent(self):\n",
    "        sql = \"insert into student (StudentNumber, StudentName,StudentSurname, StudentBirthday, Gender) values (%s,%s,%s,%s,%s)\"\n",
    "        value = (self.studentNumber,self.studentName,self.studentSurname,self.studentBirthday,self.gender)\n",
    "        Student.mycursor.execute(sql,value)\n",
    "\n",
    "        try:\n",
    "            Student.connection.commit()\n",
    "            print(f\"{Student.mycursor.rowcount} tane kayıt eklendi.\")\n",
    "        except mysql.connector.Error as err:\n",
    "            print(\"hata: \",err)\n",
    "        finally:\n",
    "            Student.connection.close()\n",
    "    \n",
    "    @staticmethod\n",
    "    def saveStundents(students):\n",
    "        sql = \"insert into student (StudentNumber, StudentName,StudentSurname, StudentBirthday, Gender) values (%s,%s,%s,%s,%s)\"\n",
    "        values =  students\n",
    "        Student.mycursor.executemany(sql,values)\n",
    "\n",
    "        try:\n",
    "            Student.connection.commit()\n",
    "            print(f\"{Student.mycursor.rowcount} tane kayıt eklendi.\")\n",
    "        except mysql.connector.Error as err:\n",
    "            print(\"hata: \",err)\n",
    "        finally:\n",
    "            Student.connection.close()\n",
    "\n",
    "    "
   ]
  },
  {
   "cell_type": "code",
   "execution_count": 3,
   "metadata": {},
   "outputs": [
    {
     "name": "stdout",
     "output_type": "stream",
     "text": [
      "1 tane kayıt eklendi.\n"
     ]
    }
   ],
   "source": [
    "ahmet = Student(115,\"Ahmet\",\"Yüce\",datetime(2005,7,13),\"E\")\n",
    "ahmet.saveStudent()\n"
   ]
  },
  {
   "cell_type": "code",
   "execution_count": 3,
   "metadata": {},
   "outputs": [
    {
     "name": "stdout",
     "output_type": "stream",
     "text": [
      "6 tane kayıt eklendi.\n"
     ]
    }
   ],
   "source": [
    "\n",
    "ogrenciler=[\n",
    "    (116,\"Ahmet\",\"Yılmaz\",datetime(2005,5,17),\"E\"),\n",
    "    (117,\"Ali\",\"Can\",datetime(2005,6,27),\"K\"),\n",
    "    (118,\"Canan\",\"Tan\",datetime(2005,7,7),\"K\"),\n",
    "    (119,\"Ayşe\",\"Taner\",datetime(2005,8,17),\"K\"),\n",
    "    (120,\"Bahadır\",\"Toksöz\",datetime(2005,9,7),\"E\"),\n",
    "    (121,\"Ali\",\"Cenk\",datetime(2003,7,27),\"E\")\n",
    "]\n",
    "Student.saveStundents(ogrenciler)"
   ]
  },
  {
   "cell_type": "code",
   "execution_count": 6,
   "metadata": {},
   "outputs": [
    {
     "ename": "ProgrammingError",
     "evalue": "1146 (42S02): Table 'schooldb.products' doesn't exist",
     "output_type": "error",
     "traceback": [
      "\u001b[1;31m---------------------------------------------------------------------------\u001b[0m",
      "\u001b[1;31mProgrammingError\u001b[0m                          Traceback (most recent call last)",
      "\u001b[1;32mc:\\Users\\omery\\OneDrive\\Belgeler\\Visual Studio\\Python\\15-Sql\\p04_insertDemo.ipynb Cell 5'\u001b[0m in \u001b[0;36m<module>\u001b[1;34m\u001b[0m\n\u001b[1;32m----> <a href='vscode-notebook-cell:/c%3A/Users/omery/OneDrive/Belgeler/Visual%20Studio/Python/15-Sql/p04_insertDemo.ipynb#ch0000004?line=0'>1</a>\u001b[0m Student\u001b[39m.\u001b[39;49mgetProducts()\n",
      "\u001b[1;32mc:\\Users\\omery\\OneDrive\\Belgeler\\Visual Studio\\Python\\15-Sql\\p04_insertDemo.ipynb Cell 2'\u001b[0m in \u001b[0;36mStudent.getProducts\u001b[1;34m()\u001b[0m\n\u001b[0;32m     <a href='vscode-notebook-cell:/c%3A/Users/omery/OneDrive/Belgeler/Visual%20Studio/Python/15-Sql/p04_insertDemo.ipynb#ch0000001?line=38'>39</a>\u001b[0m \u001b[39mdef\u001b[39;00m \u001b[39mgetProducts\u001b[39m():\n\u001b[1;32m---> <a href='vscode-notebook-cell:/c%3A/Users/omery/OneDrive/Belgeler/Visual%20Studio/Python/15-Sql/p04_insertDemo.ipynb#ch0000001?line=39'>40</a>\u001b[0m     Student\u001b[39m.\u001b[39;49mmycursor\u001b[39m.\u001b[39;49mexecute(\u001b[39m\"\u001b[39;49m\u001b[39mSelect * from products\u001b[39;49m\u001b[39m\"\u001b[39;49m)\n\u001b[0;32m     <a href='vscode-notebook-cell:/c%3A/Users/omery/OneDrive/Belgeler/Visual%20Studio/Python/15-Sql/p04_insertDemo.ipynb#ch0000001?line=40'>41</a>\u001b[0m     result \u001b[39m=\u001b[39m Student\u001b[39m.\u001b[39mmycursor\u001b[39m.\u001b[39mfetchall()\n\u001b[0;32m     <a href='vscode-notebook-cell:/c%3A/Users/omery/OneDrive/Belgeler/Visual%20Studio/Python/15-Sql/p04_insertDemo.ipynb#ch0000001?line=42'>43</a>\u001b[0m     \u001b[39mprint\u001b[39m(result)\n",
      "File \u001b[1;32m~\\AppData\\Local\\Packages\\PythonSoftwareFoundation.Python.3.10_qbz5n2kfra8p0\\LocalCache\\local-packages\\Python310\\site-packages\\mysql\\connector\\cursor.py:551\u001b[0m, in \u001b[0;36mMySQLCursor.execute\u001b[1;34m(self, operation, params, multi)\u001b[0m\n\u001b[0;32m    <a href='file:///~/AppData/Local/Packages/PythonSoftwareFoundation.Python.3.10_qbz5n2kfra8p0/LocalCache/local-packages/Python310/site-packages/mysql/connector/cursor.py?line=548'>549</a>\u001b[0m \u001b[39melse\u001b[39;00m:\n\u001b[0;32m    <a href='file:///~/AppData/Local/Packages/PythonSoftwareFoundation.Python.3.10_qbz5n2kfra8p0/LocalCache/local-packages/Python310/site-packages/mysql/connector/cursor.py?line=549'>550</a>\u001b[0m     \u001b[39mtry\u001b[39;00m:\n\u001b[1;32m--> <a href='file:///~/AppData/Local/Packages/PythonSoftwareFoundation.Python.3.10_qbz5n2kfra8p0/LocalCache/local-packages/Python310/site-packages/mysql/connector/cursor.py?line=550'>551</a>\u001b[0m         \u001b[39mself\u001b[39m\u001b[39m.\u001b[39m_handle_result(\u001b[39mself\u001b[39;49m\u001b[39m.\u001b[39;49m_connection\u001b[39m.\u001b[39;49mcmd_query(stmt))\n\u001b[0;32m    <a href='file:///~/AppData/Local/Packages/PythonSoftwareFoundation.Python.3.10_qbz5n2kfra8p0/LocalCache/local-packages/Python310/site-packages/mysql/connector/cursor.py?line=551'>552</a>\u001b[0m     \u001b[39mexcept\u001b[39;00m errors\u001b[39m.\u001b[39mInterfaceError:\n\u001b[0;32m    <a href='file:///~/AppData/Local/Packages/PythonSoftwareFoundation.Python.3.10_qbz5n2kfra8p0/LocalCache/local-packages/Python310/site-packages/mysql/connector/cursor.py?line=552'>553</a>\u001b[0m         \u001b[39mif\u001b[39;00m \u001b[39mself\u001b[39m\u001b[39m.\u001b[39m_connection\u001b[39m.\u001b[39m_have_next_result:  \u001b[39m# pylint: disable=W0212\u001b[39;00m\n",
      "File \u001b[1;32m~\\AppData\\Local\\Packages\\PythonSoftwareFoundation.Python.3.10_qbz5n2kfra8p0\\LocalCache\\local-packages\\Python310\\site-packages\\mysql\\connector\\connection.py:490\u001b[0m, in \u001b[0;36mMySQLConnection.cmd_query\u001b[1;34m(self, query, raw, buffered, raw_as_string)\u001b[0m\n\u001b[0;32m    <a href='file:///~/AppData/Local/Packages/PythonSoftwareFoundation.Python.3.10_qbz5n2kfra8p0/LocalCache/local-packages/Python310/site-packages/mysql/connector/connection.py?line=487'>488</a>\u001b[0m \u001b[39mif\u001b[39;00m \u001b[39mnot\u001b[39;00m \u001b[39misinstance\u001b[39m(query, \u001b[39mbytes\u001b[39m):\n\u001b[0;32m    <a href='file:///~/AppData/Local/Packages/PythonSoftwareFoundation.Python.3.10_qbz5n2kfra8p0/LocalCache/local-packages/Python310/site-packages/mysql/connector/connection.py?line=488'>489</a>\u001b[0m     query \u001b[39m=\u001b[39m query\u001b[39m.\u001b[39mencode(\u001b[39m'\u001b[39m\u001b[39mutf-8\u001b[39m\u001b[39m'\u001b[39m)\n\u001b[1;32m--> <a href='file:///~/AppData/Local/Packages/PythonSoftwareFoundation.Python.3.10_qbz5n2kfra8p0/LocalCache/local-packages/Python310/site-packages/mysql/connector/connection.py?line=489'>490</a>\u001b[0m result \u001b[39m=\u001b[39m \u001b[39mself\u001b[39;49m\u001b[39m.\u001b[39;49m_handle_result(\u001b[39mself\u001b[39;49m\u001b[39m.\u001b[39;49m_send_cmd(ServerCmd\u001b[39m.\u001b[39;49mQUERY, query))\n\u001b[0;32m    <a href='file:///~/AppData/Local/Packages/PythonSoftwareFoundation.Python.3.10_qbz5n2kfra8p0/LocalCache/local-packages/Python310/site-packages/mysql/connector/connection.py?line=491'>492</a>\u001b[0m \u001b[39mif\u001b[39;00m \u001b[39mself\u001b[39m\u001b[39m.\u001b[39m_have_next_result:\n\u001b[0;32m    <a href='file:///~/AppData/Local/Packages/PythonSoftwareFoundation.Python.3.10_qbz5n2kfra8p0/LocalCache/local-packages/Python310/site-packages/mysql/connector/connection.py?line=492'>493</a>\u001b[0m     \u001b[39mraise\u001b[39;00m errors\u001b[39m.\u001b[39mInterfaceError(\n\u001b[0;32m    <a href='file:///~/AppData/Local/Packages/PythonSoftwareFoundation.Python.3.10_qbz5n2kfra8p0/LocalCache/local-packages/Python310/site-packages/mysql/connector/connection.py?line=493'>494</a>\u001b[0m         \u001b[39m'\u001b[39m\u001b[39mUse cmd_query_iter for statements with multiple queries.\u001b[39m\u001b[39m'\u001b[39m)\n",
      "File \u001b[1;32m~\\AppData\\Local\\Packages\\PythonSoftwareFoundation.Python.3.10_qbz5n2kfra8p0\\LocalCache\\local-packages\\Python310\\site-packages\\mysql\\connector\\connection.py:395\u001b[0m, in \u001b[0;36mMySQLConnection._handle_result\u001b[1;34m(self, packet)\u001b[0m\n\u001b[0;32m    <a href='file:///~/AppData/Local/Packages/PythonSoftwareFoundation.Python.3.10_qbz5n2kfra8p0/LocalCache/local-packages/Python310/site-packages/mysql/connector/connection.py?line=392'>393</a>\u001b[0m     \u001b[39mreturn\u001b[39;00m \u001b[39mself\u001b[39m\u001b[39m.\u001b[39m_handle_eof(packet)\n\u001b[0;32m    <a href='file:///~/AppData/Local/Packages/PythonSoftwareFoundation.Python.3.10_qbz5n2kfra8p0/LocalCache/local-packages/Python310/site-packages/mysql/connector/connection.py?line=393'>394</a>\u001b[0m \u001b[39melif\u001b[39;00m packet[\u001b[39m4\u001b[39m] \u001b[39m==\u001b[39m \u001b[39m255\u001b[39m:\n\u001b[1;32m--> <a href='file:///~/AppData/Local/Packages/PythonSoftwareFoundation.Python.3.10_qbz5n2kfra8p0/LocalCache/local-packages/Python310/site-packages/mysql/connector/connection.py?line=394'>395</a>\u001b[0m     \u001b[39mraise\u001b[39;00m errors\u001b[39m.\u001b[39mget_exception(packet)\n\u001b[0;32m    <a href='file:///~/AppData/Local/Packages/PythonSoftwareFoundation.Python.3.10_qbz5n2kfra8p0/LocalCache/local-packages/Python310/site-packages/mysql/connector/connection.py?line=396'>397</a>\u001b[0m \u001b[39m# We have a text result set\u001b[39;00m\n\u001b[0;32m    <a href='file:///~/AppData/Local/Packages/PythonSoftwareFoundation.Python.3.10_qbz5n2kfra8p0/LocalCache/local-packages/Python310/site-packages/mysql/connector/connection.py?line=397'>398</a>\u001b[0m column_count \u001b[39m=\u001b[39m \u001b[39mself\u001b[39m\u001b[39m.\u001b[39m_protocol\u001b[39m.\u001b[39mparse_column_count(packet)\n",
      "\u001b[1;31mProgrammingError\u001b[0m: 1146 (42S02): Table 'schooldb.products' doesn't exist"
     ]
    }
   ],
   "source": []
  },
  {
   "cell_type": "code",
   "execution_count": null,
   "metadata": {},
   "outputs": [],
   "source": []
  }
 ],
 "metadata": {
  "interpreter": {
   "hash": "bb81b1b8acca9b64f189463e446233292aa5d8f169c3826c8980e5844dfab148"
  },
  "kernelspec": {
   "display_name": "Python 3.10.2 64-bit (windows store)",
   "language": "python",
   "name": "python3"
  },
  "language_info": {
   "codemirror_mode": {
    "name": "ipython",
    "version": 3
   },
   "file_extension": ".py",
   "mimetype": "text/x-python",
   "name": "python",
   "nbconvert_exporter": "python",
   "pygments_lexer": "ipython3",
   "version": "3.10.2"
  },
  "orig_nbformat": 4
 },
 "nbformat": 4,
 "nbformat_minor": 2
}
