{
 "cells": [
  {
   "cell_type": "code",
   "execution_count": 11,
   "metadata": {},
   "outputs": [
    {
     "name": "stdout",
     "output_type": "stream",
     "text": [
      "(1, 'Samsung S6', Decimal('2000'), '1.jpg', 'iyi telefon')\n",
      "(2, 'Samsung S7', Decimal('3000'), '2.jpg', 'iyi telefon')\n",
      "(3, 'Samsung S5', Decimal('1000'), '3.jpg', 'İyi telefon')\n",
      "(4, 'iphone 8', Decimal('4000'), '4.jpg', 'çok iyi telefon')\n",
      "(5, 'Samsung S10', Decimal('5950'), '5.jpg', 'çok iyi')\n",
      "(6, 'Iphone X', Decimal('5000'), '6.jpg', 'Muhteşem')\n",
      "(7, 'Samsung S7', Decimal('3000'), '1.jpg', 'iyi')\n",
      "(8, 'Samsung s8 ', Decimal('5000'), '2.jpg', 'iyi')\n"
     ]
    }
   ],
   "source": [
    "from connect import sifre\n",
    "import mysql.connector\n",
    "from datetime import datetime\n",
    "\n",
    "def getProduct():\n",
    "    connection = mysql.connector.connect(\n",
    "        host=\"localhost\",\n",
    "        user=\"root\",\n",
    "        password = sifre,\n",
    "        database=\"node_app\"\n",
    "    )\n",
    "    cursor = connection.cursor()\n",
    "\n",
    "    cursor.execute(\"select * from products\")\n",
    "    result = cursor.fetchall()\n",
    "\n",
    "    for i in result:\n",
    "        print(i)\n",
    "getProduct()\n"
   ]
  },
  {
   "cell_type": "code",
   "execution_count": 12,
   "metadata": {},
   "outputs": [
    {
     "name": "stdout",
     "output_type": "stream",
     "text": [
      "(1, 'Samsung S6', Decimal('2000'), '1.jpg', 'iyi telefon')\n",
      "(2, 'Samsung S7', Decimal('3000'), '2.jpg', 'iyi telefon')\n",
      "(3, 'Samsung S5', Decimal('1000'), '3.jpg', 'İyi telefon')\n",
      "(4, 'iphone 8', Decimal('4000'), '4.jpg', 'çok iyi telefon')\n",
      "(5, 'Samsung S10', Decimal('5950'), '5.jpg', 'çok iyi')\n",
      "(6, 'Iphone X', Decimal('5000'), '6.jpg', 'Muhteşem')\n",
      "(7, 'Samsung S7', Decimal('3000'), '1.jpg', 'iyi')\n",
      "(8, 'Samsung s8 ', Decimal('5000'), '2.jpg', 'iyi')\n"
     ]
    }
   ],
   "source": [
    "#id, name, price, imageUrl, descripttion\n",
    "\n",
    "from connect import sifre\n",
    "import mysql.connector\n",
    "from datetime import datetime\n",
    "\n",
    "def updateProduct():\n",
    "    connection = mysql.connector.connect(\n",
    "        host=\"localhost\",\n",
    "        user=\"root\",\n",
    "        password = sifre,\n",
    "        database=\"node_app\"\n",
    "    )\n",
    "    cursor = connection.cursor()\n",
    "\n",
    "    sql = \"update products  set name = 'Samsung S10' where id=5\"\n",
    "    cursor.execute(sql)\n",
    "    connection.commit()\n",
    "\n",
    "\n",
    "    connection.close()\n",
    "updateProduct()\n",
    "getProduct()"
   ]
  },
  {
   "cell_type": "code",
   "execution_count": 13,
   "metadata": {},
   "outputs": [
    {
     "name": "stdout",
     "output_type": "stream",
     "text": [
      "(1, 'Samsung S6', Decimal('2000'), '1.jpg', 'iyi telefon')\n",
      "(2, 'Samsung S7', Decimal('3000'), '2.jpg', 'iyi telefon')\n",
      "(3, 'Samsung S5', Decimal('1000'), '3.jpg', 'İyi telefon')\n",
      "(4, 'iphone 8', Decimal('4000'), '4.jpg', 'çok iyi telefon')\n",
      "(5, 'Samsung S10', Decimal('5950'), '5.jpg', 'çok iyi')\n",
      "(6, 'Iphone X', Decimal('5000'), '6.jpg', 'Muhteşem')\n",
      "(7, 'Samsung S7', Decimal('3000'), '1.jpg', 'iyi')\n",
      "(8, 'Samsung s8 ', Decimal('5000'), '2.jpg', 'iyi')\n"
     ]
    }
   ],
   "source": [
    "#id, name, price, imageUrl, descripttion\n",
    "\n",
    "from connect import sifre\n",
    "import mysql.connector\n",
    "from datetime import datetime\n",
    "\n",
    "def updateProduct():\n",
    "    connection = mysql.connector.connect(\n",
    "        host=\"localhost\",\n",
    "        user=\"root\",\n",
    "        password = sifre,\n",
    "        database=\"node_app\"\n",
    "    )\n",
    "    cursor = connection.cursor()\n",
    "\n",
    "    sql = \"update products  set name = 'Samsung S10', price=5950 where id=5\"\n",
    "    cursor.execute(sql)\n",
    "    connection.commit()\n",
    "\n",
    "\n",
    "    connection.close()\n",
    "updateProduct()\n",
    "getProduct()"
   ]
  },
  {
   "cell_type": "code",
   "execution_count": 15,
   "metadata": {},
   "outputs": [
    {
     "name": "stdout",
     "output_type": "stream",
     "text": [
      "(1, 'Iphone 8', Decimal('6000'), '1.jpg', 'iyi telefon')\n",
      "(2, 'Samsung S7', Decimal('3000'), '2.jpg', 'iyi telefon')\n",
      "(3, 'Samsung S5', Decimal('1000'), '3.jpg', 'İyi telefon')\n",
      "(4, 'iphone 8', Decimal('4000'), '4.jpg', 'çok iyi telefon')\n",
      "(5, 'Samsung S10', Decimal('5950'), '5.jpg', 'çok iyi')\n",
      "(6, 'Iphone X', Decimal('5000'), '6.jpg', 'Muhteşem')\n",
      "(7, 'Samsung S7', Decimal('3000'), '1.jpg', 'iyi')\n",
      "(8, 'Samsung s8 ', Decimal('5000'), '2.jpg', 'iyi')\n"
     ]
    }
   ],
   "source": [
    "#id, name, price, imageUrl, descripttion\n",
    "\n",
    "from connect import sifre\n",
    "import mysql.connector\n",
    "from datetime import datetime\n",
    "\n",
    "def updateProduct(id,name,price):\n",
    "    connection = mysql.connector.connect(\n",
    "        host=\"localhost\",\n",
    "        user=\"root\",\n",
    "        password = sifre,\n",
    "        database=\"node_app\"\n",
    "    )\n",
    "    cursor = connection.cursor()\n",
    "\n",
    "    sql = \"update products  set name = %s ,price=%s where id=%s\"\n",
    "    values = (name,price,id)\n",
    "    cursor.execute(sql,values)\n",
    "    connection.commit()\n",
    "\n",
    "\n",
    "    connection.close()\n",
    "updateProduct(1,\"Iphone 8\",6000)\n",
    "getProduct()"
   ]
  },
  {
   "cell_type": "code",
   "execution_count": null,
   "metadata": {},
   "outputs": [],
   "source": []
  }
 ],
 "metadata": {
  "interpreter": {
   "hash": "bb81b1b8acca9b64f189463e446233292aa5d8f169c3826c8980e5844dfab148"
  },
  "kernelspec": {
   "display_name": "Python 3.10.2 64-bit (windows store)",
   "language": "python",
   "name": "python3"
  },
  "language_info": {
   "codemirror_mode": {
    "name": "ipython",
    "version": 3
   },
   "file_extension": ".py",
   "mimetype": "text/x-python",
   "name": "python",
   "nbconvert_exporter": "python",
   "pygments_lexer": "ipython3",
   "version": "3.10.2"
  },
  "orig_nbformat": 4
 },
 "nbformat": 4,
 "nbformat_minor": 2
}
