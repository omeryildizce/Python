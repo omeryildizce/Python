{
 "cells": [
  {
   "cell_type": "code",
   "execution_count": 15,
   "metadata": {},
   "outputs": [
    {
     "name": "stdout",
     "output_type": "stream",
     "text": [
      "('Samsung S6', Decimal('2000'))\n",
      "name: Samsun S7 price: 3000\n",
      "name: Samsung S5 price: 1000\n",
      "name: iphone 8 price: 4000\n",
      "name: Samsung s8  price: 3000\n",
      "name: Iphone X price: 5000\n",
      "name: Samsung S7 price: 3000\n",
      "name: Samsung s8  price: 5000\n"
     ]
    }
   ],
   "source": [
    "from matplotlib.pyplot import connect\n",
    "import mysql.connector\n",
    "from connect import sifre \n",
    "def getProducts():\n",
    "    connection = mysql.connector.connect(host=\"localhost\",user=\"root\",password=sifre,database=\"node_app\")\n",
    "    cursor = connection.cursor()\n",
    "\n",
    "    #cursor.execute(\"select * from products\")\n",
    "    cursor.execute(\"select name ,price from products\")\n",
    "    result1 = cursor.fetchone()\n",
    "    print(result1)\n",
    "    result = cursor.fetchall()\n",
    "    \n",
    "    for product in result:\n",
    "        #print(f\"name: {product[1]} price: {product[2]}\")\n",
    "        print(f\"name: {product[0]} price: {product[1]}\")\n",
    "\n",
    "\n",
    "getProducts()"
   ]
  },
  {
   "cell_type": "code",
   "execution_count": 27,
   "metadata": {},
   "outputs": [
    {
     "name": "stdout",
     "output_type": "stream",
     "text": [
      "name: Samsung S7 price: 3000\n",
      "name: Samsung S7 price: 3000\n"
     ]
    }
   ],
   "source": [
    "from matplotlib.pyplot import connect\n",
    "import mysql.connector\n",
    "from connect import sifre \n",
    "def getProducts():\n",
    "    connection = mysql.connector.connect(host=\"localhost\",user=\"root\",password=sifre,database=\"node_app\")\n",
    "    cursor = connection.cursor()\n",
    "\n",
    "    #cursor.execute(\"select * from products\")\n",
    "    cursor.execute(\"select name ,price from products where name = 'Samsung S7' and price>2500\")\n",
    "   \n",
    "    result = cursor.fetchall()\n",
    "    \n",
    "    for product in result:\n",
    "        print(f\"name: {product[0]} price: {product[1]}\")\n",
    "\n",
    "\n",
    "getProducts()"
   ]
  },
  {
   "cell_type": "code",
   "execution_count": 28,
   "metadata": {},
   "outputs": [
    {
     "name": "stdout",
     "output_type": "stream",
     "text": [
      "name: Samsung S7 price: 3000\n",
      "name: Samsung s8  price: 3000\n",
      "name: Samsung S7 price: 3000\n",
      "name: Samsung s8  price: 5000\n"
     ]
    }
   ],
   "source": [
    "from matplotlib.pyplot import connect\n",
    "import mysql.connector\n",
    "from connect import sifre \n",
    "def getProducts():\n",
    "    connection = mysql.connector.connect(host=\"localhost\",user=\"root\",password=sifre,database=\"node_app\")\n",
    "    cursor = connection.cursor()\n",
    "\n",
    "    #cursor.execute(\"select * from products\")\n",
    "    cursor.execute(\"select name ,price from products where name like '%Samsung%' and price>2500\")\n",
    "   \n",
    "    result = cursor.fetchall()\n",
    "    \n",
    "    for product in result:\n",
    "        print(f\"name: {product[0]} price: {product[1]}\")\n",
    "\n",
    "\n",
    "getProducts()"
   ]
  },
  {
   "cell_type": "code",
   "execution_count": 35,
   "metadata": {},
   "outputs": [
    {
     "name": "stdout",
     "output_type": "stream",
     "text": [
      "(5, 'Samsung s8 ', Decimal('3000'), '5.jpg', 'çok iyi')\n"
     ]
    }
   ],
   "source": [
    "from matplotlib.pyplot import connect\n",
    "import mysql.connector\n",
    "from connect import sifre \n",
    "def getProductsById(id):\n",
    "    connection = mysql.connector.connect(host=\"localhost\",user=\"root\",password=sifre,database=\"node_app\")\n",
    "    cursor = connection.cursor()\n",
    "\n",
    "    sql=\"select * from products where id=%s\"\n",
    "    params= (id,)\n",
    "   \n",
    "    cursor.execute(sql,params)\n",
    "\n",
    "   \n",
    "    result = cursor.fetchone()\n",
    "    print(result)\n",
    "\n",
    "getProductsById(5)"
   ]
  },
  {
   "cell_type": "code",
   "execution_count": 39,
   "metadata": {},
   "outputs": [
    {
     "name": "stdout",
     "output_type": "stream",
     "text": [
      "name: iphone 8 price: 4000\n",
      "name: Iphone X price: 5000\n",
      "name: Samsung S5 price: 1000\n",
      "name: Samsung S6 price: 2000\n",
      "name: Samsung S7 price: 3000\n",
      "name: Samsung S7 price: 3000\n",
      "name: Samsung s8  price: 3000\n",
      "name: Samsung s8  price: 5000\n"
     ]
    }
   ],
   "source": [
    "from matplotlib.pyplot import connect\n",
    "import mysql.connector\n",
    "from connect import sifre \n",
    "def getProducts():\n",
    "    connection = mysql.connector.connect(host=\"localhost\",user=\"root\",password=sifre,database=\"node_app\")\n",
    "    cursor = connection.cursor()\n",
    "\n",
    "    #cursor.execute(\"select * from products\")\n",
    "    cursor.execute(\"select * from products order by name  \")\n",
    "   \n",
    "    result = cursor.fetchall()\n",
    "    \n",
    "    for product in result:\n",
    "        print(f\"name: {product[1]} price: {product[2]}\")\n",
    "\n",
    "\n",
    "getProducts()"
   ]
  },
  {
   "cell_type": "code",
   "execution_count": 44,
   "metadata": {},
   "outputs": [
    {
     "name": "stdout",
     "output_type": "stream",
     "text": [
      "name: Samsung s8  price: 5000\n",
      "name: Samsung s8  price: 3000\n",
      "name: Samsung S7 price: 3000\n",
      "name: Samsung S7 price: 3000\n",
      "name: Samsung S6 price: 2000\n",
      "name: Samsung S5 price: 1000\n",
      "name: Iphone X price: 5000\n",
      "name: iphone 8 price: 4000\n"
     ]
    }
   ],
   "source": [
    "from matplotlib.pyplot import connect\n",
    "import mysql.connector\n",
    "from connect import sifre \n",
    "def getProducts():\n",
    "    connection = mysql.connector.connect(host=\"localhost\",user=\"root\",password=sifre,database=\"node_app\")\n",
    "    cursor = connection.cursor()\n",
    "\n",
    "    #cursor.execute(\"select * from products\")\n",
    "    cursor.execute(\"select * from products order by name desc, price desc \")\n",
    "    try:\n",
    "        result = cursor.fetchall()\n",
    "    except mysql.connector.Error as err:\n",
    "        print(\"hata: \",err)\n",
    "    finally:\n",
    "        connection.close()\n",
    "    for product in result:\n",
    "        print(f\"name: {product[1]} price: {product[2]}\")\n",
    "\n",
    "\n",
    "getProducts()"
   ]
  },
  {
   "cell_type": "code",
   "execution_count": null,
   "metadata": {},
   "outputs": [],
   "source": []
  }
 ],
 "metadata": {
  "interpreter": {
   "hash": "bb81b1b8acca9b64f189463e446233292aa5d8f169c3826c8980e5844dfab148"
  },
  "kernelspec": {
   "display_name": "Python 3.10.2 64-bit (windows store)",
   "language": "python",
   "name": "python3"
  },
  "language_info": {
   "codemirror_mode": {
    "name": "ipython",
    "version": 3
   },
   "file_extension": ".py",
   "mimetype": "text/x-python",
   "name": "python",
   "nbconvert_exporter": "python",
   "pygments_lexer": "ipython3",
   "version": "3.10.2"
  },
  "orig_nbformat": 4
 },
 "nbformat": 4,
 "nbformat_minor": 2
}
