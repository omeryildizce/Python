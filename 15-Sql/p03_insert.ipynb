{
 "cells": [
  {
   "cell_type": "code",
   "execution_count": 32,
   "metadata": {},
   "outputs": [],
   "source": [
    "import mysql.connector as con\n",
    "\n",
    "def insertProduct(name,price,imageUrl,descripttion):\n",
    "    connection = con.connect(\n",
    "        host=\"localhost\",\n",
    "        user=\"root\",\n",
    "        password=\"12345\",\n",
    "        database =\"node_app\"\n",
    "    )   \n",
    "    cursor = connection.cursor()\n",
    "   \n",
    "    sql = \"insert into products(name,price,imageUrl,descripttion) values (%s,%s, %s, %s)\"\n",
    "    values = (name,price,imageUrl,descripttion)\n",
    "\n",
    "    cursor.execute(sql,values)\n",
    "    try:\n",
    "        connection.commit()\n",
    "        print(f\"{cursor.rowcount} tane kayıt eklendi.\")\n",
    "        print(f\"Son elene kayıdın ıd numarası: {cursor.lastrowid}\")\n",
    "    except con.Error as err:\n",
    "        print(\"Hata: \", err)\n",
    "\n",
    "    finally:\n",
    "        connection.close()\n",
    "        print(\"Databese bağlantı kapandı.\")\n",
    "    "
   ]
  },
  {
   "cell_type": "code",
   "execution_count": 34,
   "metadata": {},
   "outputs": [],
   "source": [
    "def insertProducts(list):\n",
    "    connection = con.connect(\n",
    "        host=\"localhost\",\n",
    "        user=\"root\",\n",
    "        password=\"Omer.6637\",\n",
    "        database =\"node_app\"\n",
    "    )   \n",
    "    cursor = connection.cursor()\n",
    "   \n",
    "    sql = \"insert into products(name,price,imageUrl,descripttion) values (%s,%s, %s, %s)\"\n",
    "    values = (list)\n",
    "\n",
    "    cursor.executemany(sql,values)\n",
    "    try:\n",
    "        connection.commit()\n",
    "        print(f\"{cursor.rowcount} tane kayıt eklendi.\")\n",
    "        print(f\"Son elene kayıdın ıd numarası: {cursor.lastrowid}\")\n",
    "    except con.Error as err:\n",
    "        print(\"Hata: \", err)\n",
    "\n",
    "    finally:\n",
    "        connection.close()\n",
    "        print(\"Databese bağlantı kapandı.\")\n",
    "    "
   ]
  },
  {
   "cell_type": "code",
   "execution_count": 36,
   "metadata": {},
   "outputs": [
    {
     "name": "stdout",
     "output_type": "stream",
     "text": [
      "Kayıtlar veri tabanınıza aktarılıyor.\n",
      "[('Samsung S7', 3000.0, '1.jpg', 'iyi'), ('Samsung s8 ', 5000.0, '2.jpg', 'iyi')]\n",
      "2 tane kayıt eklendi.\n",
      "Son elene kayıdın ıd numarası: 7\n",
      "Databese bağlantı kapandı.\n"
     ]
    }
   ],
   "source": [
    "list=[]\n",
    "while True:\n",
    "\n",
    "    name=input(\"Ürün Adı: \")\n",
    "    price=float(input(\"Ürün Fiyatı: \"))\n",
    "    imageUrl=input(\"Ürün Resim Adı: \")\n",
    "    descripttion=input(\"Ürün Açıklaması\")\n",
    "    list.append((name,price,imageUrl,descripttion))\n",
    "    result = input(\"Devem etmek istiyormusunuz()e/h\")\n",
    "    if result.lower() ==\"h\":\n",
    "        print(\"Kayıtlar veri tabanınıza aktarılıyor.\")\n",
    "        print(list)\n",
    "        insertProducts(list)\n",
    "        break\n",
    "\n",
    "\n",
    "#insertProduct(name,price,imageUrl,descripttion)"
   ]
  },
  {
   "cell_type": "code",
   "execution_count": null,
   "metadata": {},
   "outputs": [],
   "source": []
  }
 ],
 "metadata": {
  "interpreter": {
   "hash": "bb81b1b8acca9b64f189463e446233292aa5d8f169c3826c8980e5844dfab148"
  },
  "kernelspec": {
   "display_name": "Python 3.10.2 64-bit (windows store)",
   "language": "python",
   "name": "python3"
  },
  "language_info": {
   "codemirror_mode": {
    "name": "ipython",
    "version": 3
   },
   "file_extension": ".py",
   "mimetype": "text/x-python",
   "name": "python",
   "nbconvert_exporter": "python",
   "pygments_lexer": "ipython3",
   "version": "3.10.2"
  },
  "orig_nbformat": 4
 },
 "nbformat": 4,
 "nbformat_minor": 2
}
