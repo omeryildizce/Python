{
 "cells": [
  {
   "cell_type": "code",
   "execution_count": 2,
   "metadata": {},
   "outputs": [
    {
     "name": "stderr",
     "output_type": "stream",
     "text": [
      "C:\\Users\\omery\\AppData\\Local\\Temp\\ipykernel_8644\\1591291773.py:15: DeprecationWarning: find_element_by_* commands are deprecated. Please use find_element() instead\n",
      "  emailInput= self.browser.find_element_by_xpath('//*[@id=\"loginForm\"]/div/div[1]/div/label/input')\n",
      "C:\\Users\\omery\\AppData\\Local\\Temp\\ipykernel_8644\\1591291773.py:16: DeprecationWarning: find_element_by_* commands are deprecated. Please use find_element() instead\n",
      "  passwordInput = self.browser.find_element_by_xpath('//*[@id=\"loginForm\"]/div/div[2]/div/label/input')\n"
     ]
    }
   ],
   "source": [
    "from p01_instagramUsers import email,password\n",
    "from selenium import webdriver\n",
    "import time\n",
    "from selenium.webdriver.common.keys import Keys\n",
    "\n",
    "class Instagram:\n",
    "    def __init__(self,email,password):\n",
    "        self.browser = webdriver.Chrome()\n",
    "        self.email = email\n",
    "        self.password = password\n",
    "    def sigIn(self):\n",
    "\n",
    "        self.browser.get(\"https://www.instagram.com\")\n",
    "        time.sleep(2)\n",
    "        emailInput= self.browser.find_element_by_xpath('//*[@id=\"loginForm\"]/div/div[1]/div/label/input')\n",
    "        passwordInput = self.browser.find_element_by_xpath('//*[@id=\"loginForm\"]/div/div[2]/div/label/input')\n",
    "        \n",
    "        emailInput.send_keys(self.email)\n",
    "        passwordInput.send_keys(self.password)\n",
    "        passwordInput.send_keys(Keys.ENTER)\n",
    "    def getFollowers(self):\n",
    "        self.browser.get(f\"https://www.instagram.com/{self.email}\")\n",
    "        followersLink=self.browser.find_element_by_xpath('//*[@id=\"loginForm\"]/div/div[1]/div/label')\n",
    "        followersLink.click()\n",
    "        time.sleep(2)\n",
    "        dialog=self.browser.find_element_by_css_selector(\"div[role=dialog] ul\")\n",
    "        followeCount=len(dialog.find_elements_by_css_selector(\"li\"))\n",
    "        \n",
    "        action=webdriver.ActionChains(self.browser)\n",
    "        while True:\n",
    "            dialog.click()\n",
    "            action.key_down(Keys.SPACE).key_Up(Keys.SPACE).perform()\n",
    "            time.sleep(2)\n",
    "\n",
    "            newCount=(len(dialog.find_elements_by_css_selector(\"li\")))\n",
    "            if newCount==followeCount:\n",
    "                break\n",
    "            else:\n",
    "                followeCount=newCount\n",
    "                print(followeCount)\n",
    "                time.sleep(1)\n",
    "                pass\n",
    "        \n",
    "        followers=dialog.find_elements_by_css_selector(\"li\")\n",
    "\n",
    "        followerList=[]\n",
    "        for user in followers:\n",
    "            link = user.find_element_by_css_selector(\"a\").get_attribute(\"href\")\n",
    "            followerList.append(link)\n",
    "        with open(\"followers.text\",\"w\",encoding=\"utf-8\") as file:\n",
    "            for item in followerList:\n",
    "                file.write(item+\"\\n\")\n",
    "\n",
    "    def followUser(self,email):\n",
    "        self.browser.get(\"https://instagram.com/\"+email)\n",
    "        time.sleep(2)\n",
    "        followButton = self.browser.find_element_by_tag_name(\"button\")\n",
    "        if followButton.text!=\"Takiptesin\":\n",
    "            followButton.click()\n",
    "            time.sleep(2)\n",
    "        else:\n",
    "            print(\"zaten kullanıcıyı takip ediyorsun\")\n",
    "    def unFollowUser(self,email):\n",
    "        self.browser.get(\"https://instagram.com/\"+email)\n",
    "        time.sleep(2)\n",
    "        followButton = self.browser.find_element_by_tag_name(\"button\")\n",
    "        if followButton.text == \"Takiptesin\":\n",
    "            followButton.click()\n",
    "            time.sleep(2)\n",
    "\n",
    "            conifirmButton = self.browser.find_element_by_xpath(\"//button[text()='Takibi bırak']\") \n",
    "            conifirmButton.click()     \n",
    "        else:\n",
    "            print(\"Zaten takip etmiyorsunuz.\")\n",
    "\n",
    "instagram = Instagram(email,password)\n",
    "\n",
    "instagram.sigIn()\n",
    "instagram.getFollowers()\n",
    "instagram.followUser(\"kod_evreni\")\n",
    "instagram.unFollowUser(\"kod_evreni\")"
   ]
  }
 ],
 "metadata": {
  "interpreter": {
   "hash": "bb81b1b8acca9b64f189463e446233292aa5d8f169c3826c8980e5844dfab148"
  },
  "kernelspec": {
   "display_name": "Python 3.10.2 64-bit (windows store)",
   "language": "python",
   "name": "python3"
  },
  "language_info": {
   "codemirror_mode": {
    "name": "ipython",
    "version": 3
   },
   "file_extension": ".py",
   "mimetype": "text/x-python",
   "name": "python",
   "nbconvert_exporter": "python",
   "pygments_lexer": "ipython3",
   "version": "3.10.2"
  },
  "orig_nbformat": 4
 },
 "nbformat": 4,
 "nbformat_minor": 2
}
