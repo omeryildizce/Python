{
 "cells": [
  {
   "cell_type": "code",
   "execution_count": 28,
   "metadata": {},
   "outputs": [
    {
     "name": "stdout",
     "output_type": "stream",
     "text": [
      "[1 3 5 7 9]\n",
      "[[ 0  1  2  3  4  5  6  7  8  9]\n",
      " [10 11 12 13 14 15 16 17 18 19]\n",
      " [20 21 22 23 24 25 26 27 28 29]\n",
      " [30 31 32 33 34 35 36 37 38 39]\n",
      " [40 41 42 43 44 45 46 47 48 49]]\n",
      "[ 45 145 245 345 445]\n",
      "[100 105 110 115 120 125 130 135 140 145]\n"
     ]
    }
   ],
   "source": [
    "import numpy as np\n",
    " \n",
    "result = np.array([1,3,5,7,9])\n",
    "print(result)\n",
    "\n",
    "result = np.arange(1,10)\n",
    "result = np.arange(10,100,5)\n",
    "result = np.zeros(10)  \n",
    "result = np.ones(10)\n",
    "result = np.linspace(0,100,5) # beş eşit aralığa böl\n",
    "result = np.linspace(0,1,9)\n",
    "result = np.random.randint(0,10)\n",
    "result = np.random.randint(20)\n",
    "result = np.random.randint(1,11,10)\n",
    "result = np.random.rand(5) # 0-1 arası 5 sayı\n",
    "result = np.random.randn(5) # -1 +1 arası 5 sayı\n",
    "array = np.arange(50)\n",
    "result= array.reshape(5,10)\n",
    "print(result)\n",
    "print(result.sum(axis=1))\n",
    "print(result.sum(axis=0))\n",
    "\n",
    "result = np.random.randint(1,101,15)\n",
    "max= result.max()\n",
    "min = result.min()\n",
    "mean = result.mean()\n",
    "index = result.argmax()\n",
    "index = result.argmin()\n",
    "sort = result.sort()\n"
   ]
  }
 ],
 "metadata": {
  "interpreter": {
   "hash": "bb81b1b8acca9b64f189463e446233292aa5d8f169c3826c8980e5844dfab148"
  },
  "kernelspec": {
   "display_name": "Python 3.10.2 64-bit (windows store)",
   "language": "python",
   "name": "python3"
  },
  "language_info": {
   "codemirror_mode": {
    "name": "ipython",
    "version": 3
   },
   "file_extension": ".py",
   "mimetype": "text/x-python",
   "name": "python",
   "nbconvert_exporter": "python",
   "pygments_lexer": "ipython3",
   "version": "3.10.2"
  },
  "orig_nbformat": 4
 },
 "nbformat": 4,
 "nbformat_minor": 2
}
