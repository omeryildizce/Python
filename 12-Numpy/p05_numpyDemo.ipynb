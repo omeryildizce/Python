{
 "cells": [
  {
   "cell_type": "markdown",
   "metadata": {},
   "source": [
    "10,15,30,45,60 degerlerine ahip numpy dizisini oluşturunuz."
   ]
  },
  {
   "cell_type": "code",
   "execution_count": 5,
   "metadata": {},
   "outputs": [],
   "source": [
    "import numpy as np"
   ]
  },
  {
   "cell_type": "code",
   "execution_count": 6,
   "metadata": {},
   "outputs": [
    {
     "name": "stdout",
     "output_type": "stream",
     "text": [
      "[10 15 30 45 60]\n"
     ]
    }
   ],
   "source": [
    "dizi = np.array([10,15,30,45,60])\n",
    "print(dizi)"
   ]
  },
  {
   "cell_type": "markdown",
   "metadata": {},
   "source": [
    "5-15  aralığına sahip dizi oluturun"
   ]
  },
  {
   "cell_type": "code",
   "execution_count": 7,
   "metadata": {},
   "outputs": [
    {
     "name": "stdout",
     "output_type": "stream",
     "text": [
      "[ 5  6  7  8  9 10 11 12 13 14 15]\n"
     ]
    }
   ],
   "source": [
    "dizi1 = np.arange(5,16)\n",
    "print(dizi1)"
   ]
  },
  {
   "cell_type": "markdown",
   "metadata": {},
   "source": [
    "50-100 arası 5 er artan diziyi oluşturun"
   ]
  },
  {
   "cell_type": "code",
   "execution_count": 8,
   "metadata": {},
   "outputs": [
    {
     "name": "stdout",
     "output_type": "stream",
     "text": [
      "[50 55 60 65 70 75 80 85 90 95]\n"
     ]
    }
   ],
   "source": [
    "dizi2 = np.arange(50,100,5)\n",
    "print(dizi2)"
   ]
  },
  {
   "cell_type": "markdown",
   "metadata": {},
   "source": [
    "10 elemanlı sıfırlardan oluşan bir dizi olul-şturalım"
   ]
  },
  {
   "cell_type": "code",
   "execution_count": 9,
   "metadata": {},
   "outputs": [
    {
     "name": "stdout",
     "output_type": "stream",
     "text": [
      "[0. 0. 0. 0. 0. 0. 0. 0. 0. 0.]\n"
     ]
    }
   ],
   "source": [
    "dizi3 = np.zeros(10)\n",
    "print(dizi3)"
   ]
  },
  {
   "cell_type": "markdown",
   "metadata": {},
   "source": [
    "10 elemanlı birlerden oluşan bir dizioluşturun"
   ]
  },
  {
   "cell_type": "code",
   "execution_count": 10,
   "metadata": {},
   "outputs": [
    {
     "name": "stdout",
     "output_type": "stream",
     "text": [
      "[1. 1. 1. 1. 1. 1. 1. 1. 1. 1.]\n"
     ]
    }
   ],
   "source": [
    "dizi4 = np.ones(10)\n",
    "print(dizi4)"
   ]
  },
  {
   "cell_type": "markdown",
   "metadata": {},
   "source": [
    "0 ile 100 arasında 5 eşit aralıklı dizi ouluşturun"
   ]
  },
  {
   "cell_type": "code",
   "execution_count": 12,
   "metadata": {},
   "outputs": [
    {
     "name": "stdout",
     "output_type": "stream",
     "text": [
      "[  0.  25.  50.  75. 100.]\n"
     ]
    }
   ],
   "source": [
    "dizi5 = np.linspace(0,100,5)\n",
    "print(dizi5)"
   ]
  },
  {
   "cell_type": "markdown",
   "metadata": {},
   "source": [
    "10-30 arasında 5 tane rastgele sayı üretiniz"
   ]
  },
  {
   "cell_type": "code",
   "execution_count": 19,
   "metadata": {},
   "outputs": [
    {
     "name": "stdout",
     "output_type": "stream",
     "text": [
      "[24 14 25 12 18]\n"
     ]
    }
   ],
   "source": [
    "dizi6= np.random.randint(10,30,5)\n",
    "print(dizi6)"
   ]
  },
  {
   "cell_type": "markdown",
   "metadata": {},
   "source": [
    "-1 ile 1 arasında 10 sayı üretin"
   ]
  },
  {
   "cell_type": "code",
   "execution_count": 20,
   "metadata": {},
   "outputs": [
    {
     "name": "stdout",
     "output_type": "stream",
     "text": [
      "[-0.18502504 -0.913565    0.74472933 -1.1641477   0.14448509  0.16338219\n",
      "  0.22136599  0.25705686 -1.30520934  1.1792062 ]\n"
     ]
    }
   ],
   "source": [
    "dizi7=np.random.randn(10)\n",
    "print(dizi7)"
   ]
  },
  {
   "cell_type": "markdown",
   "metadata": {},
   "source": [
    "3x5 boyutunda 10-50 arası rastgee bir matris olusturun"
   ]
  },
  {
   "cell_type": "code",
   "execution_count": 22,
   "metadata": {},
   "outputs": [
    {
     "name": "stdout",
     "output_type": "stream",
     "text": [
      "[[34 21 10 38 20]\n",
      " [35 18 37 21 20]\n",
      " [30 15 49 40 14]]\n"
     ]
    }
   ],
   "source": [
    "dizi8 = np.random.randint(10,50,15)\n",
    "dizi8 = dizi8.reshape(3,5)\n",
    "print(dizi8)"
   ]
  },
  {
   "cell_type": "markdown",
   "metadata": {},
   "source": [
    "üretilen matrisin sütün ve satır toplamları"
   ]
  },
  {
   "cell_type": "code",
   "execution_count": 24,
   "metadata": {},
   "outputs": [
    {
     "name": "stdout",
     "output_type": "stream",
     "text": [
      "[123 131 148]\n",
      "[99 54 96 99 54]\n"
     ]
    }
   ],
   "source": [
    "sum = dizi8.sum(axis=1)\n",
    "print(sum)\n",
    "sum = dizi8.sum(axis=0)\n",
    "print(sum)"
   ]
  },
  {
   "cell_type": "markdown",
   "metadata": {},
   "source": [
    "dizinin max,min ve mean değerlerini bulunuz"
   ]
  },
  {
   "cell_type": "code",
   "execution_count": 27,
   "metadata": {},
   "outputs": [
    {
     "name": "stdout",
     "output_type": "stream",
     "text": [
      "10 49 26.8\n"
     ]
    }
   ],
   "source": [
    "min = dizi8.min()\n",
    "max = dizi8.max()\n",
    "mean = dizi8.mean()\n",
    "\n",
    "print(min,max,mean)\n"
   ]
  },
  {
   "cell_type": "markdown",
   "metadata": {},
   "source": [
    "n büyük sayının imndexi nedir\n"
   ]
  },
  {
   "cell_type": "code",
   "execution_count": 29,
   "metadata": {},
   "outputs": [
    {
     "name": "stdout",
     "output_type": "stream",
     "text": [
      "12\n"
     ]
    }
   ],
   "source": [
    "argmax  = dizi8.argmax()\n",
    "print(argmax)"
   ]
  },
  {
   "cell_type": "markdown",
   "metadata": {},
   "source": [
    "10-20 değerlerini içeren dizinin ilk üç elemanını getiren sorgu"
   ]
  },
  {
   "cell_type": "code",
   "execution_count": 30,
   "metadata": {},
   "outputs": [
    {
     "name": "stdout",
     "output_type": "stream",
     "text": [
      "[10 11 12]\n"
     ]
    }
   ],
   "source": [
    "dizi9= np.arange(10,20)\n",
    "\n",
    "ilk3 = dizi9[:3]\n",
    "print(ilk3)\n"
   ]
  },
  {
   "cell_type": "markdown",
   "metadata": {},
   "source": [
    "dizinin elemanlarını tersten yazdırın\n"
   ]
  },
  {
   "cell_type": "code",
   "execution_count": 32,
   "metadata": {},
   "outputs": [
    {
     "name": "stdout",
     "output_type": "stream",
     "text": [
      "[19 18 17 16 15 14 13 12 11 10]\n"
     ]
    }
   ],
   "source": [
    "print(dizi9[::-1])"
   ]
  },
  {
   "cell_type": "markdown",
   "metadata": {},
   "source": [
    "dizi8 ilk satırını getirin"
   ]
  },
  {
   "cell_type": "code",
   "execution_count": 36,
   "metadata": {},
   "outputs": [
    {
     "name": "stdout",
     "output_type": "stream",
     "text": [
      "[[34 21 10 38 20]\n",
      " [35 18 37 21 20]\n",
      " [30 15 49 40 14]]\n",
      "[34 21 10 38 20]\n"
     ]
    }
   ],
   "source": [
    "ilkSatir= dizi8[0]\n",
    "print(dizi8)\n",
    "print(ilkSatir)"
   ]
  },
  {
   "cell_type": "markdown",
   "metadata": {},
   "source": [
    "2. satır 3. sütundaki elemanı getirin"
   ]
  },
  {
   "cell_type": "code",
   "execution_count": 47,
   "metadata": {},
   "outputs": [
    {
     "name": "stdout",
     "output_type": "stream",
     "text": [
      "37\n"
     ]
    }
   ],
   "source": [
    "ikiUc = dizi8[1,2]\n",
    "print(ikiUc)"
   ]
  },
  {
   "cell_type": "markdown",
   "metadata": {},
   "source": [
    "satırların ilk elemanını getirin"
   ]
  },
  {
   "cell_type": "code",
   "execution_count": 54,
   "metadata": {},
   "outputs": [
    {
     "name": "stdout",
     "output_type": "stream",
     "text": [
      "[34 35 30]\n"
     ]
    }
   ],
   "source": [
    "ilkeleman = dizi8[:,0]\n",
    "print(ilkeleman)"
   ]
  },
  {
   "cell_type": "markdown",
   "metadata": {},
   "source": [
    "matrisin değerlerinin karesini hesaplayın"
   ]
  },
  {
   "cell_type": "code",
   "execution_count": 55,
   "metadata": {},
   "outputs": [
    {
     "name": "stdout",
     "output_type": "stream",
     "text": [
      "[[34 21 10 38 20]\n",
      " [35 18 37 21 20]\n",
      " [30 15 49 40 14]]\n",
      "[[1156  441  100 1444  400]\n",
      " [1225  324 1369  441  400]\n",
      " [ 900  225 2401 1600  196]]\n"
     ]
    }
   ],
   "source": [
    "dizi10 = dizi8 **2\n",
    "print(dizi8)\n",
    "print(dizi10)"
   ]
  },
  {
   "cell_type": "markdown",
   "metadata": {},
   "source": [
    "-50 +50 aralığındaki dizinin pozitif çift elemanlarını yazdırın"
   ]
  },
  {
   "cell_type": "code",
   "execution_count": 70,
   "metadata": {},
   "outputs": [
    {
     "name": "stdout",
     "output_type": "stream",
     "text": [
      "[[ -4 -16   3  45 -45]\n",
      " [ 34  42  24  33  -7]\n",
      " [-23   3  46  20  -6]\n",
      " [ 14  16  44  36 -23]\n",
      " [ 15  42  48   5  25]]\n",
      "[34 42 24 46 20 14 16 44 36 42 48]\n"
     ]
    }
   ],
   "source": [
    "dizi11 = np.random.randint(-50,50,25)\n",
    "dizi11 = dizi11.reshape(5,5)\n",
    "\n",
    "pozitif = dizi11 >=0 \n",
    "cift =  dizi11%2==0\n",
    "islem = pozitif*cift\n",
    "\n",
    "print(dizi11)\n",
    "print(dizi11[islem])\n"
   ]
  }
 ],
 "metadata": {
  "interpreter": {
   "hash": "bb81b1b8acca9b64f189463e446233292aa5d8f169c3826c8980e5844dfab148"
  },
  "kernelspec": {
   "display_name": "Python 3.10.2 64-bit (windows store)",
   "language": "python",
   "name": "python3"
  },
  "language_info": {
   "codemirror_mode": {
    "name": "ipython",
    "version": 3
   },
   "file_extension": ".py",
   "mimetype": "text/x-python",
   "name": "python",
   "nbconvert_exporter": "python",
   "pygments_lexer": "ipython3",
   "version": "3.10.2"
  },
  "orig_nbformat": 4
 },
 "nbformat": 4,
 "nbformat_minor": 2
}
