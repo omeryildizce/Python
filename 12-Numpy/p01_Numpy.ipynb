{
 "cells": [
  {
   "cell_type": "markdown",
   "metadata": {},
   "source": [
    "Numpy kütüphanesi"
   ]
  },
  {
   "cell_type": "code",
   "execution_count": 10,
   "metadata": {},
   "outputs": [
    {
     "name": "stdout",
     "output_type": "stream",
     "text": [
      "[[1, 2, 3], [4, 5, 6], [7, 8, 9]]\n",
      "[[1 2 3]\n",
      " [4 5 6]\n",
      " [7 8 9]]\n",
      "1\n",
      "2\n",
      "(9,)\n",
      "(3, 3)\n"
     ]
    }
   ],
   "source": [
    "# python listesi\n",
    "py_list = [1,2,3,4,5,6,7,8,9]\n",
    "\n",
    "import numpy as np\n",
    "np_array=np.array( [1,2,3,4,5,6,7,8,9])\n",
    "\n",
    "\n",
    "py_multi =[[1,2,3],[4,5,6],[7,8,9]]\n",
    "np_multi = np_array.reshape(3,3)\n",
    "\n",
    "print(py_multi)\n",
    "print(np_multi) \n",
    "\n",
    "print(np_array.ndim)\n",
    "print(np_multi.ndim) \n",
    "\n",
    "print(np_array.shape)\n",
    "print(np_multi.shape) \n",
    "\n"
   ]
  }
 ],
 "metadata": {
  "interpreter": {
   "hash": "bb81b1b8acca9b64f189463e446233292aa5d8f169c3826c8980e5844dfab148"
  },
  "kernelspec": {
   "display_name": "Python 3.10.2 64-bit (windows store)",
   "language": "python",
   "name": "python3"
  },
  "language_info": {
   "codemirror_mode": {
    "name": "ipython",
    "version": 3
   },
   "file_extension": ".py",
   "mimetype": "text/x-python",
   "name": "python",
   "nbconvert_exporter": "python",
   "pygments_lexer": "ipython3",
   "version": "3.10.2"
  },
  "orig_nbformat": 4
 },
 "nbformat": 4,
 "nbformat_minor": 2
}
