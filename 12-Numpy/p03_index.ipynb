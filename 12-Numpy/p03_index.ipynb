{
 "cells": [
  {
   "cell_type": "code",
   "execution_count": 7,
   "metadata": {},
   "outputs": [],
   "source": [
    "import numpy as np \n",
    "\n",
    "numbers = np.array([0,5,10,15,20,25,50,75,100])\n",
    "\n",
    "result = numbers[5]\n",
    "result = numbers[-1]\n",
    "result = numbers[0:3]\n",
    "result = numbers[:5]\n",
    "result = numbers[5:]\n",
    "result = numbers[::] # bütün liste\n",
    "result = numbers[::-1]\n",
    "result = numbers[::-2]\n",
    "\n"
   ]
  },
  {
   "cell_type": "code",
   "execution_count": 20,
   "metadata": {},
   "outputs": [
    {
     "name": "stdout",
     "output_type": "stream",
     "text": [
      "[[  0   5  10]\n",
      " [ 15  20  25]\n",
      " [ 50  75 100]]\n"
     ]
    },
    {
     "data": {
      "text/plain": [
       "array([[  0,   5,  10],\n",
       "       [ 15,  20,  25],\n",
       "       [ 50,  75, 100]])"
      ]
     },
     "execution_count": 20,
     "metadata": {},
     "output_type": "execute_result"
    }
   ],
   "source": [
    "numbers2 = np.array([[0,5,10],[15,20,25],[50,75,100]])\n",
    "print(numbers2)\n",
    "numbers2[0,2]\n",
    "numbers2[:,2]\n",
    "numbers2[:,0:2]\n",
    "numbers2[-1,:]\n",
    "numbers2[:3,:3]"
   ]
  },
  {
   "cell_type": "code",
   "execution_count": 25,
   "metadata": {},
   "outputs": [
    {
     "data": {
      "text/plain": [
       "(array([20,  1,  2,  3,  4,  5,  6,  7,  8,  9]),\n",
       " array([20,  1,  2,  3,  4,  5,  6,  7,  8,  9]),\n",
       " array([0, 1, 2, 3, 4, 5, 6, 7, 8, 9]))"
      ]
     },
     "execution_count": 25,
     "metadata": {},
     "output_type": "execute_result"
    }
   ],
   "source": [
    "arr1 = np.arange(0,10)\n",
    "arr2 = arr1 #reference \n",
    "arr3 = arr1.copy()\n",
    "arr1,arr2\n",
    "\n",
    "arr2[0] = 20\n",
    "arr2,arr1,arr3"
   ]
  }
 ],
 "metadata": {
  "interpreter": {
   "hash": "bb81b1b8acca9b64f189463e446233292aa5d8f169c3826c8980e5844dfab148"
  },
  "kernelspec": {
   "display_name": "Python 3.10.2 64-bit (windows store)",
   "language": "python",
   "name": "python3"
  },
  "language_info": {
   "codemirror_mode": {
    "name": "ipython",
    "version": 3
   },
   "file_extension": ".py",
   "mimetype": "text/x-python",
   "name": "python",
   "nbconvert_exporter": "python",
   "pygments_lexer": "ipython3",
   "version": "3.10.2"
  },
  "orig_nbformat": 4
 },
 "nbformat": 4,
 "nbformat_minor": 2
}
