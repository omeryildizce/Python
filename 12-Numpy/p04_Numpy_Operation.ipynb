{
 "cells": [
  {
   "cell_type": "code",
   "execution_count": 44,
   "metadata": {},
   "outputs": [
    {
     "name": "stdout",
     "output_type": "stream",
     "text": [
      "[13 98 74 67 74 84]\n",
      "[89 41 25 64 39 97]\n",
      "[102 139  99 131 113 181]\n",
      "[ 23 108  84  77  84  94]\n",
      "[-76  57  49   3  35 -13]\n"
     ]
    }
   ],
   "source": [
    "import numpy as np\n",
    "numbers1 = np.random.randint(10,101,6)\n",
    "numbers2 = np.random.randint(10,101,6)\n",
    "\n",
    "print(numbers1)\n",
    "print(numbers2)\n",
    "\n",
    "result = numbers1+numbers2\n",
    "print(result)\n",
    "\n",
    "print(numbers1+10)\n",
    "result = numbers1-numbers2\n",
    "print(result)\n",
    "\n"
   ]
  },
  {
   "cell_type": "code",
   "execution_count": 46,
   "metadata": {},
   "outputs": [
    {
     "data": {
      "text/plain": [
       "(array([[13, 98, 74],\n",
       "        [67, 74, 84]]),\n",
       " array([[89, 41, 25],\n",
       "        [64, 39, 97]]))"
      ]
     },
     "execution_count": 46,
     "metadata": {},
     "output_type": "execute_result"
    }
   ],
   "source": [
    "result = np.sin(numbers1)\n",
    "result = np.cos(numbers1)\n",
    "\n",
    "log= np.log(numbers1)\n",
    "sqrt= np.sqrt(numbers2)\n",
    "\n",
    "matris1 = numbers1.reshape(2,3)\n",
    "matris2 = numbers2.reshape(2,3)\n",
    "matris1,matris2\n",
    "\n"
   ]
  },
  {
   "cell_type": "code",
   "execution_count": 51,
   "metadata": {},
   "outputs": [
    {
     "data": {
      "text/plain": [
       "array([[13, 98, 74, 89, 41, 25],\n",
       "       [67, 74, 84, 64, 39, 97]])"
      ]
     },
     "execution_count": 51,
     "metadata": {},
     "output_type": "execute_result"
    }
   ],
   "source": [
    "result =np.vstack( (matris1,matris2))\n",
    "result\n",
    "result =np.hstack( (matris1,matris2))\n",
    "result"
   ]
  },
  {
   "cell_type": "code",
   "execution_count": 57,
   "metadata": {},
   "outputs": [
    {
     "name": "stdout",
     "output_type": "stream",
     "text": [
      "[False  True  True  True  True  True]\n",
      "[False  True  True False  True  True]\n",
      "[98 74 74 84]\n"
     ]
    }
   ],
   "source": [
    "buyuk = numbers1 >=25\n",
    "print(buyuk)\n",
    "mod = numbers1%2 ==0\n",
    "print(mod)\n",
    "\n",
    "print(numbers1[mod])"
   ]
  }
 ],
 "metadata": {
  "interpreter": {
   "hash": "bb81b1b8acca9b64f189463e446233292aa5d8f169c3826c8980e5844dfab148"
  },
  "kernelspec": {
   "display_name": "Python 3.10.2 64-bit (windows store)",
   "language": "python",
   "name": "python3"
  },
  "language_info": {
   "codemirror_mode": {
    "name": "ipython",
    "version": 3
   },
   "file_extension": ".py",
   "mimetype": "text/x-python",
   "name": "python",
   "nbconvert_exporter": "python",
   "pygments_lexer": "ipython3",
   "version": "3.10.2"
  },
  "orig_nbformat": 4
 },
 "nbformat": 4,
 "nbformat_minor": 2
}
